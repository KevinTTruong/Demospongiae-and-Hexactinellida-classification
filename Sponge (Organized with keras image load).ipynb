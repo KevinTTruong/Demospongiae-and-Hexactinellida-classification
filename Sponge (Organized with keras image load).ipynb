{
 "cells": [
  {
   "cell_type": "markdown",
   "id": "99c53cc4-8833-43ff-a72c-eb9a2a7a27cb",
   "metadata": {
    "tags": []
   },
   "source": [
    "# 3-class classification"
   ]
  },
  {
   "cell_type": "markdown",
   "id": "6844a5a4-6349-46d0-be1f-84dfa13d9382",
   "metadata": {
    "tags": []
   },
   "source": [
    "### Prepare data"
   ]
  },
  {
   "cell_type": "code",
   "execution_count": 6,
   "id": "b081991a-2f7d-496b-a85e-1ce4e5d225d4",
   "metadata": {},
   "outputs": [],
   "source": [
    "import numpy as np                                       #NumPy\n",
    "import pandas as pd                                      #PANDAS\n",
    "import tensorflow as tf                                  #Tensor-Flow\n",
    "from tensorflow import keras                             #Keras\n",
    "import random\n",
    "import cv2\n",
    "from sklearn.model_selection import train_test_split\n",
    "import matplotlib.pyplot as plt                          #Image display configurations\n",
    "# for keras\n",
    "from classification_models.keras import Classifiers\n",
    "import os, sys"
   ]
  },
  {
   "cell_type": "code",
   "execution_count": 37,
   "id": "e0ae2a87-47c0-45f5-bad1-969a69d79211",
   "metadata": {
    "tags": []
   },
   "outputs": [
    {
     "name": "stdout",
     "output_type": "stream",
     "text": [
      "Found 157676 files belonging to 3 classes.\n",
      "Using 126141 files for training.\n",
      "Found 157676 files belonging to 3 classes.\n",
      "Using 31535 files for validation.\n"
     ]
    }
   ],
   "source": [
    "training_set = tf.keras.preprocessing.image_dataset_from_directory(\n",
    "    \"./Data/Images\",\n",
    "    validation_split=0.2,\n",
    "    subset=\"training\",\n",
    "    seed=42,\n",
    "    image_size=(224,224),\n",
    "    labels='inferred',\n",
    "    label_mode='categorical',\n",
    "    shuffle=True\n",
    ")\n",
    "test_set = tf.keras.preprocessing.image_dataset_from_directory(\n",
    "    \"./Data/Images\",\n",
    "    validation_split=0.2,\n",
    "    subset=\"validation\",\n",
    "    seed=42,\n",
    "    image_size=(224,224),\n",
    "    labels='inferred',\n",
    "    label_mode='categorical',\n",
    "    shuffle=True\n",
    ")"
   ]
  },
  {
   "cell_type": "markdown",
   "id": "09bc8fb1-2897-457f-8276-687396467954",
   "metadata": {
    "tags": []
   },
   "source": [
    "### Source 1 models: https://pypi.org/project/image-classifiers/"
   ]
  },
  {
   "cell_type": "code",
   "execution_count": 20,
   "id": "c11148c9-5028-4107-974d-662326f2754a",
   "metadata": {
    "tags": []
   },
   "outputs": [
    {
     "name": "stdout",
     "output_type": "stream",
     "text": [
      "resnet18\tresnet34\tresnet50\t\n",
      "resnet101\tresnet152\tseresnet18\t\n",
      "seresnet34\tseresnet50\tseresnet101\t\n",
      "seresnet152\tseresnext50\tseresnext101\t\n",
      "senet154\tresnet50v2\tresnet101v2\t\n",
      "resnet152v2\tresnext50\tresnext101\t\n",
      "vgg16\tvgg19\tdensenet121\t\n",
      "densenet169\tdensenet201\tinceptionresnetv2\t\n",
      "inceptionv3\txception\tnasnetlarge\t\n",
      "nasnetmobile\tmobilenet\tmobilenetv2\t\n",
      "\n"
     ]
    }
   ],
   "source": [
    "key_output = \"\"\n",
    "i=0\n",
    "for key in Classifiers.models.keys():\n",
    "    i+=1\n",
    "    key_output += key+\"\\t\"\n",
    "    if(i==3): \n",
    "        key_output += \"\\n\"\n",
    "        i=0\n",
    "print(key_output)"
   ]
  },
  {
   "cell_type": "markdown",
   "id": "35e2ffb3-0f54-47bb-8ea0-b683406394af",
   "metadata": {
    "tags": []
   },
   "source": [
    "#### ResNet18 COMPLETED"
   ]
  },
  {
   "cell_type": "code",
   "execution_count": 38,
   "id": "614f5ba6-da43-4583-9e72-37407339aece",
   "metadata": {
    "tags": []
   },
   "outputs": [],
   "source": [
    "resnet18, preprocess = Classifiers.get('resnet18')"
   ]
  },
  {
   "cell_type": "code",
   "execution_count": 39,
   "id": "b62ed5de-eed9-46a4-b01e-f9e379b03dfe",
   "metadata": {},
   "outputs": [],
   "source": [
    "model = resnet18(input_shape=(224,224,3), weights='imagenet', include_top=False)\n",
    "model = tf.keras.Sequential([model,\n",
    "                                 tf.keras.layers.GlobalAveragePooling2D(),\n",
    "                                 tf.keras.layers.Dense(3, activation=\"softmax\")                                     \n",
    "                                ])"
   ]
  },
  {
   "cell_type": "code",
   "execution_count": 40,
   "id": "84fd94c6-6f3e-4424-9762-e74c156b3801",
   "metadata": {
    "tags": []
   },
   "outputs": [
    {
     "name": "stdout",
     "output_type": "stream",
     "text": [
      "   2/3942 [..............................] - ETA: 2:23:51 - loss: 0.6290 - accuracy: 0.7344"
     ]
    },
    {
     "name": "stderr",
     "output_type": "stream",
     "text": [
      "\n",
      "KeyboardInterrupt\n",
      "\n"
     ]
    }
   ],
   "source": [
    "model.compile(optimizer='SGD', loss='categorical_crossentropy', metrics=['accuracy'])\n",
    "model.fit(training_set) #2hrs\n",
    "model.save(\"models/resnet18_all\")"
   ]
  },
  {
   "cell_type": "markdown",
   "id": "2ccd6367-44d5-4040-aafe-d3da1b8e4d34",
   "metadata": {
    "tags": []
   },
   "source": [
    "#### MobileNet COMPLETED"
   ]
  },
  {
   "cell_type": "code",
   "execution_count": 59,
   "id": "c28ed825-cb03-4a2c-8c6a-0bde1b3ddae7",
   "metadata": {
    "tags": []
   },
   "outputs": [],
   "source": [
    "mobilenet, preprocess = Classifiers.get('mobilenet')"
   ]
  },
  {
   "cell_type": "code",
   "execution_count": 60,
   "id": "5d835530-d793-48c3-9755-0796a2cd9f1c",
   "metadata": {
    "tags": []
   },
   "outputs": [],
   "source": [
    "model = mobilenet(input_shape=(224,224,3), weights='imagenet', include_top=False)\n",
    "model = tf.keras.Sequential([model,\n",
    "                                 tf.keras.layers.GlobalAveragePooling2D(),\n",
    "                                 tf.keras.layers.Dense(3, activation=\"softmax\")                                     \n",
    "                                ])"
   ]
  },
  {
   "cell_type": "code",
   "execution_count": 61,
   "id": "2ccb1fb5-6f4d-486b-8fa9-0246d9c11500",
   "metadata": {
    "tags": []
   },
   "outputs": [
    {
     "name": "stdout",
     "output_type": "stream",
     "text": [
      "392/392 [==============================] - 1235s 3s/step - loss: 0.0368 - accuracy: 0.9890\n",
      "INFO:tensorflow:Assets written to: models/mobilenet_S6\\assets\n"
     ]
    }
   ],
   "source": [
    "model.compile(optimizer='SGD', loss='categorical_crossentropy', metrics=['accuracy'])\n",
    "model.fit(training_set)\n",
    "model.save(\"models/mobilenet_all\")  #2hrs"
   ]
  },
  {
   "cell_type": "markdown",
   "id": "553e83cf-c211-4369-8800-036f99be59c1",
   "metadata": {
    "tags": []
   },
   "source": [
    "#### SE-ResNet18 COMPLETED"
   ]
  },
  {
   "cell_type": "code",
   "execution_count": 62,
   "id": "45b6e695-5f88-465d-be26-d1451c147549",
   "metadata": {
    "tags": []
   },
   "outputs": [],
   "source": [
    "seresnet18, preprocess = Classifiers.get('seresnet18')"
   ]
  },
  {
   "cell_type": "code",
   "execution_count": 63,
   "id": "b29ac3e9-9974-4d21-9703-361a1b750c89",
   "metadata": {
    "tags": []
   },
   "outputs": [],
   "source": [
    "model = seresnet18(input_shape=(224,224,3), weights='imagenet', include_top=False)\n",
    "model = tf.keras.Sequential([model,\n",
    "                                 tf.keras.layers.GlobalAveragePooling2D(),\n",
    "                                 tf.keras.layers.Dense(3, activation=\"softmax\")                                     \n",
    "                                ])"
   ]
  },
  {
   "cell_type": "code",
   "execution_count": 65,
   "id": "1669e33a-945c-496d-8f4c-fc68340edd0d",
   "metadata": {
    "tags": []
   },
   "outputs": [
    {
     "name": "stdout",
     "output_type": "stream",
     "text": [
      "392/392 [==============================] - 2323s 6s/step - loss: 0.0277 - accuracy: 0.9927\n",
      "INFO:tensorflow:Assets written to: models/seresnet18_S6\\assets\n"
     ]
    }
   ],
   "source": [
    "model.compile(optimizer='SGD', loss='categorical_crossentropy', metrics=['accuracy'])\n",
    "model.fit(training_set)\n",
    "model.save(\"models/seresnet18_all\") #4hrs"
   ]
  },
  {
   "cell_type": "markdown",
   "id": "615eb130-7a14-457f-887c-06e71e70fc34",
   "metadata": {
    "tags": []
   },
   "source": [
    "#### InceptionV3 COMPLETED"
   ]
  },
  {
   "cell_type": "code",
   "execution_count": 21,
   "id": "c77cd0c7-1b1f-46a6-8a64-6f084b378d9b",
   "metadata": {
    "tags": []
   },
   "outputs": [],
   "source": [
    "inceptionv3, preprocess = Classifiers.get('inceptionv3')"
   ]
  },
  {
   "cell_type": "code",
   "execution_count": 22,
   "id": "ebae5948-90b7-4843-a5e9-0ab95df626c5",
   "metadata": {
    "tags": []
   },
   "outputs": [],
   "source": [
    "model = inceptionv3(input_shape=(224,224,3), weights='imagenet', include_top=False)\n",
    "model = tf.keras.Sequential([model,\n",
    "                                 tf.keras.layers.GlobalAveragePooling2D(),\n",
    "                                 tf.keras.layers.Dense(3, activation=\"softmax\")                                     \n",
    "                                ])"
   ]
  },
  {
   "cell_type": "code",
   "execution_count": 23,
   "id": "4c675040-187b-428e-ba6b-0679b874dbe2",
   "metadata": {
    "tags": []
   },
   "outputs": [
    {
     "name": "stdout",
     "output_type": "stream",
     "text": [
      "1997/1997 [==============================] - 11364s 6s/step - loss: 0.0094 - accuracy: 0.9978\n",
      "INFO:tensorflow:Assets written to: models/inceptionv3\\assets\n"
     ]
    }
   ],
   "source": [
    "model.compile(optimizer='SGD', loss='categorical_crossentropy', metrics=['accuracy'])\n",
    "model.fit(training_set)\n",
    "model.save(\"models/inceptionv3_all\") #5.5hrs"
   ]
  },
  {
   "cell_type": "markdown",
   "id": "f7c082c3-7023-4630-8661-2361fa8007ee",
   "metadata": {
    "tags": []
   },
   "source": [
    "#### Xception COMPLETED"
   ]
  },
  {
   "cell_type": "code",
   "execution_count": 32,
   "id": "39611268-b146-44a5-9f78-8fa4ac2f88a0",
   "metadata": {
    "tags": []
   },
   "outputs": [],
   "source": [
    "xception, preprocess = Classifiers.get('xception')"
   ]
  },
  {
   "cell_type": "code",
   "execution_count": 33,
   "id": "1aded62b-1a9b-4944-8a4d-7d9ff6563b8c",
   "metadata": {
    "tags": []
   },
   "outputs": [],
   "source": [
    "model = xception(input_shape=(224,224,3), weights='imagenet', include_top=False)\n",
    "model = tf.keras.Sequential([model,\n",
    "                                 tf.keras.layers.GlobalAveragePooling2D(),\n",
    "                                 tf.keras.layers.Dense(3, activation=\"softmax\")                                     \n",
    "                                ])"
   ]
  },
  {
   "cell_type": "code",
   "execution_count": 34,
   "id": "2518340b-44a2-4f9a-84e5-f445f9cc5aaa",
   "metadata": {
    "tags": []
   },
   "outputs": [
    {
     "name": "stdout",
     "output_type": "stream",
     "text": [
      "1997/1997 [==============================] - 25320s 13s/step - loss: 0.0268 - accuracy: 0.9927\n",
      "INFO:tensorflow:Assets written to: models/xception\\assets\n"
     ]
    }
   ],
   "source": [
    "model.compile(optimizer='SGD', loss='categorical_crossentropy', metrics=['accuracy'])\n",
    "model.fit(training_set)\n",
    "model.save(\"models/xception_all\") #6.5 hrs"
   ]
  },
  {
   "cell_type": "markdown",
   "id": "b48b6255-8306-42c8-8877-9d4aa6043eb7",
   "metadata": {
    "tags": []
   },
   "source": [
    "#### DenseNet121 COMPLETED"
   ]
  },
  {
   "cell_type": "code",
   "execution_count": 29,
   "id": "96d91ce6-f2eb-4d30-b75f-c3770b3d7d94",
   "metadata": {
    "tags": []
   },
   "outputs": [],
   "source": [
    "densenet121, preprocess = Classifiers.get('densenet121')"
   ]
  },
  {
   "cell_type": "code",
   "execution_count": 32,
   "id": "786628a0-897b-4e86-8160-ea79990149de",
   "metadata": {
    "tags": []
   },
   "outputs": [],
   "source": [
    "model = densenet121(input_shape=(224,224,3), weights='imagenet', include_top=False)\n",
    "model = tf.keras.Sequential([model,\n",
    "                                 tf.keras.layers.GlobalAveragePooling2D(),\n",
    "                                 tf.keras.layers.Dense(3, activation=\"softmax\")                                     \n",
    "                                ])"
   ]
  },
  {
   "cell_type": "code",
   "execution_count": 33,
   "id": "95c13597-4de0-45d1-8e97-6205619dced7",
   "metadata": {
    "tags": []
   },
   "outputs": [
    {
     "name": "stdout",
     "output_type": "stream",
     "text": [
      "302/302 [==============================] - 4435s 15s/step - loss: 0.0394 - accuracy: 0.9898\n",
      "INFO:tensorflow:Assets written to: models/densenet121_S4\\assets\n"
     ]
    }
   ],
   "source": [
    "model.compile(optimizer='SGD', loss='categorical_crossentropy', metrics=['accuracy'])\n",
    "model.fit(training_set)\n",
    "model.save(\"models/densenet121_all\") #9hrs"
   ]
  },
  {
   "cell_type": "markdown",
   "id": "e1d2b98f-9dcb-4f63-86c9-e887bbd56387",
   "metadata": {
    "tags": []
   },
   "source": [
    "#### Inception ResNet V2"
   ]
  },
  {
   "cell_type": "code",
   "execution_count": 34,
   "id": "a34131b6-ec87-44bd-94c3-d91d23f72a35",
   "metadata": {
    "tags": []
   },
   "outputs": [],
   "source": [
    "inceptionresnetv2, preprocess = Classifiers.get('inceptionresnetv2')"
   ]
  },
  {
   "cell_type": "code",
   "execution_count": 35,
   "id": "3a38e802-efc7-48e5-bd17-80bd6737c70b",
   "metadata": {
    "tags": []
   },
   "outputs": [],
   "source": [
    "model = inceptionresnetv2(input_shape=(224,224,3), weights='imagenet', include_top=False)\n",
    "model = tf.keras.Sequential([model,\n",
    "                                 tf.keras.layers.GlobalAveragePooling2D(),\n",
    "                                 tf.keras.layers.Dense(3, activation=\"softmax\")                                     \n",
    "                                ])"
   ]
  },
  {
   "cell_type": "code",
   "execution_count": null,
   "id": "4513589b-dffc-4805-9398-5ee88a1592a5",
   "metadata": {
    "tags": []
   },
   "outputs": [
    {
     "name": "stdout",
     "output_type": "stream",
     "text": [
      " 16/302 [>.............................] - ETA: 4:27:04 - loss: 0.5052 - accuracy: 0.8281"
     ]
    }
   ],
   "source": [
    "model.compile(optimizer='SGD', loss='categorical_crossentropy', metrics=['accuracy'])\n",
    "model.fit(training_set)\n",
    "model.save(\"models/inceptionresnetv2_all\") #12hrs"
   ]
  },
  {
   "cell_type": "markdown",
   "id": "ee096487-28a2-4637-b9dd-941b4947d2b8",
   "metadata": {
    "tags": []
   },
   "source": [
    "#### ResNext50"
   ]
  },
  {
   "cell_type": "code",
   "execution_count": null,
   "id": "a2c67a88-3cea-49e9-ad15-4da6b0a28896",
   "metadata": {
    "tags": []
   },
   "outputs": [],
   "source": [
    "resnext50, preprocess = Classifiers.get('resnext50')"
   ]
  },
  {
   "cell_type": "code",
   "execution_count": null,
   "id": "efb7aefe-3bb6-45e6-905a-8d3d20acd5ea",
   "metadata": {
    "tags": []
   },
   "outputs": [],
   "source": [
    "model = resnext50(input_shape=(224,224,3), weights='imagenet', include_top=False)\n",
    "model = tf.keras.Sequential([model,\n",
    "                                 tf.keras.layers.GlobalAveragePooling2D(),\n",
    "                                 tf.keras.layers.Dense(3, activation=\"softmax\")                                     \n",
    "                                ])"
   ]
  },
  {
   "cell_type": "code",
   "execution_count": null,
   "id": "8d2e5d08-e92e-4c9b-9878-afdce05f3a2d",
   "metadata": {
    "tags": []
   },
   "outputs": [],
   "source": [
    "model.compile(optimizer='SGD', loss='categorical_crossentropy', metrics=['accuracy'])\n",
    "model.fit(training_set)\n",
    "model.save(\"models/resnext50_all\") #16hrs"
   ]
  },
  {
   "cell_type": "markdown",
   "id": "c036fbeb-dc1f-41b5-87e6-8a5c26e1663a",
   "metadata": {
    "tags": []
   },
   "source": [
    "#### SE-ResNeXt50"
   ]
  },
  {
   "cell_type": "code",
   "execution_count": null,
   "id": "7a30fa65-5ab7-4939-8731-0224333a5898",
   "metadata": {
    "tags": []
   },
   "outputs": [],
   "source": [
    "seresnext50, preprocess = Classifiers.get('seresnext50')"
   ]
  },
  {
   "cell_type": "code",
   "execution_count": null,
   "id": "b40aeb0b-7e56-4150-a43c-4cf065fd5592",
   "metadata": {
    "tags": []
   },
   "outputs": [],
   "source": [
    "model = seresnext50(input_shape=(224,224,3), weights='imagenet', include_top=False)\n",
    "model = tf.keras.Sequential([model,\n",
    "                                 tf.keras.layers.GlobalAveragePooling2D(),\n",
    "                                 tf.keras.layers.Dense(3, activation=\"softmax\")                                     \n",
    "                                ])"
   ]
  },
  {
   "cell_type": "code",
   "execution_count": null,
   "id": "50efa221-0474-42a2-ae33-427118a096f0",
   "metadata": {
    "tags": []
   },
   "outputs": [],
   "source": [
    "model.compile(optimizer='SGD', loss='categorical_crossentropy', metrics=['accuracy'])\n",
    "model.fit(training_set)\n",
    "model.save(\"models/seresnext50_all\") #20hrs"
   ]
  },
  {
   "cell_type": "markdown",
   "id": "5892ed4b-6179-4478-9398-2e0860683801",
   "metadata": {
    "tags": []
   },
   "source": [
    "#### ~~SE-Net154~~ (Crashes CPU after 1 batch (tested on 100k negatives))!"
   ]
  },
  {
   "cell_type": "markdown",
   "id": "08a90356-a05b-4beb-ba36-34cc73441fc2",
   "metadata": {
    "tags": []
   },
   "source": [
    "#### VGG16"
   ]
  },
  {
   "cell_type": "code",
   "execution_count": null,
   "id": "127b7de9-b011-4c0a-8d5f-7325d44ebcca",
   "metadata": {
    "tags": []
   },
   "outputs": [],
   "source": [
    "vgg16, preprocess = Classifiers.get('vgg16')"
   ]
  },
  {
   "cell_type": "code",
   "execution_count": null,
   "id": "9bdaa59e-9a81-4e56-a2cf-fff41a0427de",
   "metadata": {
    "tags": []
   },
   "outputs": [],
   "source": [
    "model = vgg16(input_shape=(224,224,3), weights='imagenet', include_top=False)\n",
    "model = tf.keras.Sequential([model,\n",
    "                                 tf.keras.layers.GlobalAveragePooling2D(),\n",
    "                                 tf.keras.layers.Dense(3, activation=\"softmax\")                                     \n",
    "                                ])"
   ]
  },
  {
   "cell_type": "code",
   "execution_count": null,
   "id": "28f48e37-5347-4377-8d1d-2f4d286eae97",
   "metadata": {
    "tags": []
   },
   "outputs": [],
   "source": [
    "model.compile(optimizer='SGD', loss='categorical_crossentropy', metrics=['accuracy'])\n",
    "model.fit(training_set)\n",
    "model.save(\"models/vgg16_all\") #22hrs"
   ]
  },
  {
   "cell_type": "markdown",
   "id": "de2745ea-3f0b-449a-94f7-6e2c98222534",
   "metadata": {
    "tags": []
   },
   "source": [
    "### Source 2 models: https://keras.io/api/applications/"
   ]
  },
  {
   "cell_type": "markdown",
   "id": "8b586664-c76e-48dc-90c0-e8c7152ab214",
   "metadata": {
    "tags": []
   },
   "source": [
    "#### VGG16 COMPLETE"
   ]
  },
  {
   "cell_type": "code",
   "execution_count": 30,
   "id": "977a4e1a-9b39-42e4-9adc-6dab5f6231dd",
   "metadata": {},
   "outputs": [],
   "source": [
    "model = tf.keras.applications.VGG16(input_shape = (224, 224,3), include_top = False)\n",
    "model = tf.keras.Sequential([model,\n",
    "                                 tf.keras.layers.GlobalAveragePooling2D(),\n",
    "                                 tf.keras.layers.Dense(3, activation=\"softmax\")                                     \n",
    "                                ])"
   ]
  },
  {
   "cell_type": "code",
   "execution_count": 31,
   "id": "fa8ec7a1-617e-4f2a-b4f7-7494a38aa261",
   "metadata": {},
   "outputs": [],
   "source": [
    "base_learning_rate = 0.001\n",
    "model.compile(optimizer=tf.keras.optimizers.Adam(lr=base_learning_rate),\n",
    "              loss=tf.keras.losses.CategoricalCrossentropy(),\n",
    "              metrics=['accuracy'])"
   ]
  },
  {
   "cell_type": "code",
   "execution_count": 33,
   "id": "607784c0-c2eb-4cdd-b4b6-51a6ff0fbf4a",
   "metadata": {
    "collapsed": true,
    "jupyter": {
     "outputs_hidden": true
    },
    "tags": []
   },
   "outputs": [
    {
     "name": "stdout",
     "output_type": "stream",
     "text": [
      "  15/2622 [..............................] - ETA: 4:21:12 - loss: 433.5692 - accuracy: 0.7750"
     ]
    },
    {
     "ename": "KeyboardInterrupt",
     "evalue": "",
     "output_type": "error",
     "traceback": [
      "\u001b[1;31m---------------------------------------------------------------------------\u001b[0m",
      "\u001b[1;31mKeyboardInterrupt\u001b[0m                         Traceback (most recent call last)",
      "Input \u001b[1;32mIn [33]\u001b[0m, in \u001b[0;36m<cell line: 1>\u001b[1;34m()\u001b[0m\n\u001b[1;32m----> 1\u001b[0m \u001b[43mmodel\u001b[49m\u001b[38;5;241;43m.\u001b[39;49m\u001b[43mfit\u001b[49m\u001b[43m(\u001b[49m\u001b[43mX_train\u001b[49m\u001b[43m,\u001b[49m\u001b[43my_train\u001b[49m\u001b[43m)\u001b[49m\n\u001b[0;32m      2\u001b[0m model\u001b[38;5;241m.\u001b[39msave(\u001b[38;5;124m\"\u001b[39m\u001b[38;5;124mmodels/VGG16_S4_dispose\u001b[39m\u001b[38;5;124m\"\u001b[39m)\n",
      "File \u001b[1;32m~\\anaconda3\\envs\\tensorflow-gpu\\lib\\site-packages\\tensorflow\\python\\keras\\engine\\training.py:108\u001b[0m, in \u001b[0;36menable_multi_worker.<locals>._method_wrapper\u001b[1;34m(self, *args, **kwargs)\u001b[0m\n\u001b[0;32m    106\u001b[0m \u001b[38;5;28;01mdef\u001b[39;00m \u001b[38;5;21m_method_wrapper\u001b[39m(\u001b[38;5;28mself\u001b[39m, \u001b[38;5;241m*\u001b[39margs, \u001b[38;5;241m*\u001b[39m\u001b[38;5;241m*\u001b[39mkwargs):\n\u001b[0;32m    107\u001b[0m   \u001b[38;5;28;01mif\u001b[39;00m \u001b[38;5;129;01mnot\u001b[39;00m \u001b[38;5;28mself\u001b[39m\u001b[38;5;241m.\u001b[39m_in_multi_worker_mode():  \u001b[38;5;66;03m# pylint: disable=protected-access\u001b[39;00m\n\u001b[1;32m--> 108\u001b[0m     \u001b[38;5;28;01mreturn\u001b[39;00m \u001b[43mmethod\u001b[49m\u001b[43m(\u001b[49m\u001b[38;5;28;43mself\u001b[39;49m\u001b[43m,\u001b[49m\u001b[43m \u001b[49m\u001b[38;5;241;43m*\u001b[39;49m\u001b[43margs\u001b[49m\u001b[43m,\u001b[49m\u001b[43m \u001b[49m\u001b[38;5;241;43m*\u001b[39;49m\u001b[38;5;241;43m*\u001b[39;49m\u001b[43mkwargs\u001b[49m\u001b[43m)\u001b[49m\n\u001b[0;32m    110\u001b[0m   \u001b[38;5;66;03m# Running inside `run_distribute_coordinator` already.\u001b[39;00m\n\u001b[0;32m    111\u001b[0m   \u001b[38;5;28;01mif\u001b[39;00m dc_context\u001b[38;5;241m.\u001b[39mget_current_worker_context():\n",
      "File \u001b[1;32m~\\anaconda3\\envs\\tensorflow-gpu\\lib\\site-packages\\tensorflow\\python\\keras\\engine\\training.py:1098\u001b[0m, in \u001b[0;36mModel.fit\u001b[1;34m(self, x, y, batch_size, epochs, verbose, callbacks, validation_split, validation_data, shuffle, class_weight, sample_weight, initial_epoch, steps_per_epoch, validation_steps, validation_batch_size, validation_freq, max_queue_size, workers, use_multiprocessing)\u001b[0m\n\u001b[0;32m   1091\u001b[0m \u001b[38;5;28;01mwith\u001b[39;00m trace\u001b[38;5;241m.\u001b[39mTrace(\n\u001b[0;32m   1092\u001b[0m     \u001b[38;5;124m'\u001b[39m\u001b[38;5;124mTraceContext\u001b[39m\u001b[38;5;124m'\u001b[39m,\n\u001b[0;32m   1093\u001b[0m     graph_type\u001b[38;5;241m=\u001b[39m\u001b[38;5;124m'\u001b[39m\u001b[38;5;124mtrain\u001b[39m\u001b[38;5;124m'\u001b[39m,\n\u001b[0;32m   1094\u001b[0m     epoch_num\u001b[38;5;241m=\u001b[39mepoch,\n\u001b[0;32m   1095\u001b[0m     step_num\u001b[38;5;241m=\u001b[39mstep,\n\u001b[0;32m   1096\u001b[0m     batch_size\u001b[38;5;241m=\u001b[39mbatch_size):\n\u001b[0;32m   1097\u001b[0m   callbacks\u001b[38;5;241m.\u001b[39mon_train_batch_begin(step)\n\u001b[1;32m-> 1098\u001b[0m   tmp_logs \u001b[38;5;241m=\u001b[39m \u001b[43mtrain_function\u001b[49m\u001b[43m(\u001b[49m\u001b[43miterator\u001b[49m\u001b[43m)\u001b[49m\n\u001b[0;32m   1099\u001b[0m   \u001b[38;5;28;01mif\u001b[39;00m data_handler\u001b[38;5;241m.\u001b[39mshould_sync:\n\u001b[0;32m   1100\u001b[0m     context\u001b[38;5;241m.\u001b[39masync_wait()\n",
      "File \u001b[1;32m~\\anaconda3\\envs\\tensorflow-gpu\\lib\\site-packages\\tensorflow\\python\\eager\\def_function.py:780\u001b[0m, in \u001b[0;36mFunction.__call__\u001b[1;34m(self, *args, **kwds)\u001b[0m\n\u001b[0;32m    778\u001b[0m \u001b[38;5;28;01melse\u001b[39;00m:\n\u001b[0;32m    779\u001b[0m   compiler \u001b[38;5;241m=\u001b[39m \u001b[38;5;124m\"\u001b[39m\u001b[38;5;124mnonXla\u001b[39m\u001b[38;5;124m\"\u001b[39m\n\u001b[1;32m--> 780\u001b[0m   result \u001b[38;5;241m=\u001b[39m \u001b[38;5;28;43mself\u001b[39;49m\u001b[38;5;241;43m.\u001b[39;49m\u001b[43m_call\u001b[49m\u001b[43m(\u001b[49m\u001b[38;5;241;43m*\u001b[39;49m\u001b[43margs\u001b[49m\u001b[43m,\u001b[49m\u001b[43m \u001b[49m\u001b[38;5;241;43m*\u001b[39;49m\u001b[38;5;241;43m*\u001b[39;49m\u001b[43mkwds\u001b[49m\u001b[43m)\u001b[49m\n\u001b[0;32m    782\u001b[0m new_tracing_count \u001b[38;5;241m=\u001b[39m \u001b[38;5;28mself\u001b[39m\u001b[38;5;241m.\u001b[39m_get_tracing_count()\n\u001b[0;32m    783\u001b[0m without_tracing \u001b[38;5;241m=\u001b[39m (tracing_count \u001b[38;5;241m==\u001b[39m new_tracing_count)\n",
      "File \u001b[1;32m~\\anaconda3\\envs\\tensorflow-gpu\\lib\\site-packages\\tensorflow\\python\\eager\\def_function.py:807\u001b[0m, in \u001b[0;36mFunction._call\u001b[1;34m(self, *args, **kwds)\u001b[0m\n\u001b[0;32m    804\u001b[0m   \u001b[38;5;28mself\u001b[39m\u001b[38;5;241m.\u001b[39m_lock\u001b[38;5;241m.\u001b[39mrelease()\n\u001b[0;32m    805\u001b[0m   \u001b[38;5;66;03m# In this case we have created variables on the first call, so we run the\u001b[39;00m\n\u001b[0;32m    806\u001b[0m   \u001b[38;5;66;03m# defunned version which is guaranteed to never create variables.\u001b[39;00m\n\u001b[1;32m--> 807\u001b[0m   \u001b[38;5;28;01mreturn\u001b[39;00m \u001b[38;5;28;43mself\u001b[39;49m\u001b[38;5;241;43m.\u001b[39;49m\u001b[43m_stateless_fn\u001b[49m\u001b[43m(\u001b[49m\u001b[38;5;241;43m*\u001b[39;49m\u001b[43margs\u001b[49m\u001b[43m,\u001b[49m\u001b[43m \u001b[49m\u001b[38;5;241;43m*\u001b[39;49m\u001b[38;5;241;43m*\u001b[39;49m\u001b[43mkwds\u001b[49m\u001b[43m)\u001b[49m  \u001b[38;5;66;03m# pylint: disable=not-callable\u001b[39;00m\n\u001b[0;32m    808\u001b[0m \u001b[38;5;28;01melif\u001b[39;00m \u001b[38;5;28mself\u001b[39m\u001b[38;5;241m.\u001b[39m_stateful_fn \u001b[38;5;129;01mis\u001b[39;00m \u001b[38;5;129;01mnot\u001b[39;00m \u001b[38;5;28;01mNone\u001b[39;00m:\n\u001b[0;32m    809\u001b[0m   \u001b[38;5;66;03m# Release the lock early so that multiple threads can perform the call\u001b[39;00m\n\u001b[0;32m    810\u001b[0m   \u001b[38;5;66;03m# in parallel.\u001b[39;00m\n\u001b[0;32m    811\u001b[0m   \u001b[38;5;28mself\u001b[39m\u001b[38;5;241m.\u001b[39m_lock\u001b[38;5;241m.\u001b[39mrelease()\n",
      "File \u001b[1;32m~\\anaconda3\\envs\\tensorflow-gpu\\lib\\site-packages\\tensorflow\\python\\eager\\function.py:2829\u001b[0m, in \u001b[0;36mFunction.__call__\u001b[1;34m(self, *args, **kwargs)\u001b[0m\n\u001b[0;32m   2827\u001b[0m \u001b[38;5;28;01mwith\u001b[39;00m \u001b[38;5;28mself\u001b[39m\u001b[38;5;241m.\u001b[39m_lock:\n\u001b[0;32m   2828\u001b[0m   graph_function, args, kwargs \u001b[38;5;241m=\u001b[39m \u001b[38;5;28mself\u001b[39m\u001b[38;5;241m.\u001b[39m_maybe_define_function(args, kwargs)\n\u001b[1;32m-> 2829\u001b[0m \u001b[38;5;28;01mreturn\u001b[39;00m \u001b[43mgraph_function\u001b[49m\u001b[38;5;241;43m.\u001b[39;49m\u001b[43m_filtered_call\u001b[49m\u001b[43m(\u001b[49m\u001b[43margs\u001b[49m\u001b[43m,\u001b[49m\u001b[43m \u001b[49m\u001b[43mkwargs\u001b[49m\u001b[43m)\u001b[49m\n",
      "File \u001b[1;32m~\\anaconda3\\envs\\tensorflow-gpu\\lib\\site-packages\\tensorflow\\python\\eager\\function.py:1843\u001b[0m, in \u001b[0;36mConcreteFunction._filtered_call\u001b[1;34m(self, args, kwargs, cancellation_manager)\u001b[0m\n\u001b[0;32m   1827\u001b[0m \u001b[38;5;28;01mdef\u001b[39;00m \u001b[38;5;21m_filtered_call\u001b[39m(\u001b[38;5;28mself\u001b[39m, args, kwargs, cancellation_manager\u001b[38;5;241m=\u001b[39m\u001b[38;5;28;01mNone\u001b[39;00m):\n\u001b[0;32m   1828\u001b[0m   \u001b[38;5;124;03m\"\"\"Executes the function, filtering arguments from the Python function.\u001b[39;00m\n\u001b[0;32m   1829\u001b[0m \n\u001b[0;32m   1830\u001b[0m \u001b[38;5;124;03m  Objects aside from Tensors, CompositeTensors, and Variables are ignored.\u001b[39;00m\n\u001b[1;32m   (...)\u001b[0m\n\u001b[0;32m   1841\u001b[0m \u001b[38;5;124;03m    `args` and `kwargs`.\u001b[39;00m\n\u001b[0;32m   1842\u001b[0m \u001b[38;5;124;03m  \"\"\"\u001b[39;00m\n\u001b[1;32m-> 1843\u001b[0m   \u001b[38;5;28;01mreturn\u001b[39;00m \u001b[38;5;28;43mself\u001b[39;49m\u001b[38;5;241;43m.\u001b[39;49m\u001b[43m_call_flat\u001b[49m\u001b[43m(\u001b[49m\n\u001b[0;32m   1844\u001b[0m \u001b[43m      \u001b[49m\u001b[43m[\u001b[49m\u001b[43mt\u001b[49m\u001b[43m \u001b[49m\u001b[38;5;28;43;01mfor\u001b[39;49;00m\u001b[43m \u001b[49m\u001b[43mt\u001b[49m\u001b[43m \u001b[49m\u001b[38;5;129;43;01min\u001b[39;49;00m\u001b[43m \u001b[49m\u001b[43mnest\u001b[49m\u001b[38;5;241;43m.\u001b[39;49m\u001b[43mflatten\u001b[49m\u001b[43m(\u001b[49m\u001b[43m(\u001b[49m\u001b[43margs\u001b[49m\u001b[43m,\u001b[49m\u001b[43m \u001b[49m\u001b[43mkwargs\u001b[49m\u001b[43m)\u001b[49m\u001b[43m,\u001b[49m\u001b[43m \u001b[49m\u001b[43mexpand_composites\u001b[49m\u001b[38;5;241;43m=\u001b[39;49m\u001b[38;5;28;43;01mTrue\u001b[39;49;00m\u001b[43m)\u001b[49m\n\u001b[0;32m   1845\u001b[0m \u001b[43m       \u001b[49m\u001b[38;5;28;43;01mif\u001b[39;49;00m\u001b[43m \u001b[49m\u001b[38;5;28;43misinstance\u001b[39;49m\u001b[43m(\u001b[49m\u001b[43mt\u001b[49m\u001b[43m,\u001b[49m\u001b[43m \u001b[49m\u001b[43m(\u001b[49m\u001b[43mops\u001b[49m\u001b[38;5;241;43m.\u001b[39;49m\u001b[43mTensor\u001b[49m\u001b[43m,\u001b[49m\n\u001b[0;32m   1846\u001b[0m \u001b[43m                         \u001b[49m\u001b[43mresource_variable_ops\u001b[49m\u001b[38;5;241;43m.\u001b[39;49m\u001b[43mBaseResourceVariable\u001b[49m\u001b[43m)\u001b[49m\u001b[43m)\u001b[49m\u001b[43m]\u001b[49m\u001b[43m,\u001b[49m\n\u001b[0;32m   1847\u001b[0m \u001b[43m      \u001b[49m\u001b[43mcaptured_inputs\u001b[49m\u001b[38;5;241;43m=\u001b[39;49m\u001b[38;5;28;43mself\u001b[39;49m\u001b[38;5;241;43m.\u001b[39;49m\u001b[43mcaptured_inputs\u001b[49m\u001b[43m,\u001b[49m\n\u001b[0;32m   1848\u001b[0m \u001b[43m      \u001b[49m\u001b[43mcancellation_manager\u001b[49m\u001b[38;5;241;43m=\u001b[39;49m\u001b[43mcancellation_manager\u001b[49m\u001b[43m)\u001b[49m\n",
      "File \u001b[1;32m~\\anaconda3\\envs\\tensorflow-gpu\\lib\\site-packages\\tensorflow\\python\\eager\\function.py:1923\u001b[0m, in \u001b[0;36mConcreteFunction._call_flat\u001b[1;34m(self, args, captured_inputs, cancellation_manager)\u001b[0m\n\u001b[0;32m   1918\u001b[0m possible_gradient_type \u001b[38;5;241m=\u001b[39m (\n\u001b[0;32m   1919\u001b[0m     pywrap_tfe\u001b[38;5;241m.\u001b[39mTFE_Py_TapeSetPossibleGradientTypes(args))\n\u001b[0;32m   1920\u001b[0m \u001b[38;5;28;01mif\u001b[39;00m (possible_gradient_type \u001b[38;5;241m==\u001b[39m _POSSIBLE_GRADIENT_TYPES_NONE\n\u001b[0;32m   1921\u001b[0m     \u001b[38;5;129;01mand\u001b[39;00m executing_eagerly):\n\u001b[0;32m   1922\u001b[0m   \u001b[38;5;66;03m# No tape is watching; skip to running the function.\u001b[39;00m\n\u001b[1;32m-> 1923\u001b[0m   \u001b[38;5;28;01mreturn\u001b[39;00m \u001b[38;5;28mself\u001b[39m\u001b[38;5;241m.\u001b[39m_build_call_outputs(\u001b[38;5;28;43mself\u001b[39;49m\u001b[38;5;241;43m.\u001b[39;49m\u001b[43m_inference_function\u001b[49m\u001b[38;5;241;43m.\u001b[39;49m\u001b[43mcall\u001b[49m\u001b[43m(\u001b[49m\n\u001b[0;32m   1924\u001b[0m \u001b[43m      \u001b[49m\u001b[43mctx\u001b[49m\u001b[43m,\u001b[49m\u001b[43m \u001b[49m\u001b[43margs\u001b[49m\u001b[43m,\u001b[49m\u001b[43m \u001b[49m\u001b[43mcancellation_manager\u001b[49m\u001b[38;5;241;43m=\u001b[39;49m\u001b[43mcancellation_manager\u001b[49m\u001b[43m)\u001b[49m)\n\u001b[0;32m   1925\u001b[0m forward_backward \u001b[38;5;241m=\u001b[39m \u001b[38;5;28mself\u001b[39m\u001b[38;5;241m.\u001b[39m_select_forward_and_backward_functions(\n\u001b[0;32m   1926\u001b[0m     args,\n\u001b[0;32m   1927\u001b[0m     possible_gradient_type,\n\u001b[0;32m   1928\u001b[0m     executing_eagerly)\n\u001b[0;32m   1929\u001b[0m forward_function, args_with_tangents \u001b[38;5;241m=\u001b[39m forward_backward\u001b[38;5;241m.\u001b[39mforward()\n",
      "File \u001b[1;32m~\\anaconda3\\envs\\tensorflow-gpu\\lib\\site-packages\\tensorflow\\python\\eager\\function.py:545\u001b[0m, in \u001b[0;36m_EagerDefinedFunction.call\u001b[1;34m(self, ctx, args, cancellation_manager)\u001b[0m\n\u001b[0;32m    543\u001b[0m \u001b[38;5;28;01mwith\u001b[39;00m _InterpolateFunctionError(\u001b[38;5;28mself\u001b[39m):\n\u001b[0;32m    544\u001b[0m   \u001b[38;5;28;01mif\u001b[39;00m cancellation_manager \u001b[38;5;129;01mis\u001b[39;00m \u001b[38;5;28;01mNone\u001b[39;00m:\n\u001b[1;32m--> 545\u001b[0m     outputs \u001b[38;5;241m=\u001b[39m \u001b[43mexecute\u001b[49m\u001b[38;5;241;43m.\u001b[39;49m\u001b[43mexecute\u001b[49m\u001b[43m(\u001b[49m\n\u001b[0;32m    546\u001b[0m \u001b[43m        \u001b[49m\u001b[38;5;28;43mstr\u001b[39;49m\u001b[43m(\u001b[49m\u001b[38;5;28;43mself\u001b[39;49m\u001b[38;5;241;43m.\u001b[39;49m\u001b[43msignature\u001b[49m\u001b[38;5;241;43m.\u001b[39;49m\u001b[43mname\u001b[49m\u001b[43m)\u001b[49m\u001b[43m,\u001b[49m\n\u001b[0;32m    547\u001b[0m \u001b[43m        \u001b[49m\u001b[43mnum_outputs\u001b[49m\u001b[38;5;241;43m=\u001b[39;49m\u001b[38;5;28;43mself\u001b[39;49m\u001b[38;5;241;43m.\u001b[39;49m\u001b[43m_num_outputs\u001b[49m\u001b[43m,\u001b[49m\n\u001b[0;32m    548\u001b[0m \u001b[43m        \u001b[49m\u001b[43minputs\u001b[49m\u001b[38;5;241;43m=\u001b[39;49m\u001b[43margs\u001b[49m\u001b[43m,\u001b[49m\n\u001b[0;32m    549\u001b[0m \u001b[43m        \u001b[49m\u001b[43mattrs\u001b[49m\u001b[38;5;241;43m=\u001b[39;49m\u001b[43mattrs\u001b[49m\u001b[43m,\u001b[49m\n\u001b[0;32m    550\u001b[0m \u001b[43m        \u001b[49m\u001b[43mctx\u001b[49m\u001b[38;5;241;43m=\u001b[39;49m\u001b[43mctx\u001b[49m\u001b[43m)\u001b[49m\n\u001b[0;32m    551\u001b[0m   \u001b[38;5;28;01melse\u001b[39;00m:\n\u001b[0;32m    552\u001b[0m     outputs \u001b[38;5;241m=\u001b[39m execute\u001b[38;5;241m.\u001b[39mexecute_with_cancellation(\n\u001b[0;32m    553\u001b[0m         \u001b[38;5;28mstr\u001b[39m(\u001b[38;5;28mself\u001b[39m\u001b[38;5;241m.\u001b[39msignature\u001b[38;5;241m.\u001b[39mname),\n\u001b[0;32m    554\u001b[0m         num_outputs\u001b[38;5;241m=\u001b[39m\u001b[38;5;28mself\u001b[39m\u001b[38;5;241m.\u001b[39m_num_outputs,\n\u001b[1;32m   (...)\u001b[0m\n\u001b[0;32m    557\u001b[0m         ctx\u001b[38;5;241m=\u001b[39mctx,\n\u001b[0;32m    558\u001b[0m         cancellation_manager\u001b[38;5;241m=\u001b[39mcancellation_manager)\n",
      "File \u001b[1;32m~\\anaconda3\\envs\\tensorflow-gpu\\lib\\site-packages\\tensorflow\\python\\eager\\execute.py:59\u001b[0m, in \u001b[0;36mquick_execute\u001b[1;34m(op_name, num_outputs, inputs, attrs, ctx, name)\u001b[0m\n\u001b[0;32m     57\u001b[0m \u001b[38;5;28;01mtry\u001b[39;00m:\n\u001b[0;32m     58\u001b[0m   ctx\u001b[38;5;241m.\u001b[39mensure_initialized()\n\u001b[1;32m---> 59\u001b[0m   tensors \u001b[38;5;241m=\u001b[39m \u001b[43mpywrap_tfe\u001b[49m\u001b[38;5;241;43m.\u001b[39;49m\u001b[43mTFE_Py_Execute\u001b[49m\u001b[43m(\u001b[49m\u001b[43mctx\u001b[49m\u001b[38;5;241;43m.\u001b[39;49m\u001b[43m_handle\u001b[49m\u001b[43m,\u001b[49m\u001b[43m \u001b[49m\u001b[43mdevice_name\u001b[49m\u001b[43m,\u001b[49m\u001b[43m \u001b[49m\u001b[43mop_name\u001b[49m\u001b[43m,\u001b[49m\n\u001b[0;32m     60\u001b[0m \u001b[43m                                      \u001b[49m\u001b[43minputs\u001b[49m\u001b[43m,\u001b[49m\u001b[43m \u001b[49m\u001b[43mattrs\u001b[49m\u001b[43m,\u001b[49m\u001b[43m \u001b[49m\u001b[43mnum_outputs\u001b[49m\u001b[43m)\u001b[49m\n\u001b[0;32m     61\u001b[0m \u001b[38;5;28;01mexcept\u001b[39;00m core\u001b[38;5;241m.\u001b[39m_NotOkStatusException \u001b[38;5;28;01mas\u001b[39;00m e:\n\u001b[0;32m     62\u001b[0m   \u001b[38;5;28;01mif\u001b[39;00m name \u001b[38;5;129;01mis\u001b[39;00m \u001b[38;5;129;01mnot\u001b[39;00m \u001b[38;5;28;01mNone\u001b[39;00m:\n",
      "\u001b[1;31mKeyboardInterrupt\u001b[0m: "
     ]
    }
   ],
   "source": [
    "model.fit(training_set)\n",
    "model.save(\"models/VGG16_all\") #5hrs"
   ]
  },
  {
   "cell_type": "markdown",
   "id": "f6327115-5bc8-4315-998e-e15f5602c31c",
   "metadata": {
    "tags": []
   },
   "source": [
    "#### NASNetMobile COMPLETE"
   ]
  },
  {
   "cell_type": "code",
   "execution_count": 34,
   "id": "b6a4c25a-dc41-4e09-9b30-8d426fa25c4b",
   "metadata": {},
   "outputs": [],
   "source": [
    "model = tf.keras.applications.NASNetMobile(input_shape = (224, 224,3), include_top = False)\n",
    "model = tf.keras.Sequential([model,\n",
    "                                 tf.keras.layers.GlobalAveragePooling2D(),\n",
    "                                 tf.keras.layers.Dense(3, activation=\"softmax\")                                     \n",
    "                                ])"
   ]
  },
  {
   "cell_type": "code",
   "execution_count": 35,
   "id": "07de012f-5a75-4f53-aea2-30e1b42e0fed",
   "metadata": {},
   "outputs": [],
   "source": [
    "base_learning_rate = 0.001\n",
    "model.compile(optimizer=tf.keras.optimizers.Adam(lr=base_learning_rate),\n",
    "              loss=tf.keras.losses.CategoricalCrossentropy(),\n",
    "              metrics=['accuracy'])"
   ]
  },
  {
   "cell_type": "code",
   "execution_count": 36,
   "id": "17942f9c-d872-4a66-96e0-f79a372f9360",
   "metadata": {
    "tags": []
   },
   "outputs": [
    {
     "name": "stdout",
     "output_type": "stream",
     "text": [
      "  10/2622 [..............................] - ETA: 2:55:20 - loss: 0.1747 - accuracy: 0.9125"
     ]
    },
    {
     "name": "stderr",
     "output_type": "stream",
     "text": [
      "\n",
      "KeyboardInterrupt\n",
      "\n"
     ]
    }
   ],
   "source": [
    "model.fit(training_set)\n",
    "model.save(\"models/NASNetMobile_all\") #3.5hrs"
   ]
  },
  {
   "cell_type": "markdown",
   "id": "eaa602f4-21da-4b7d-b287-da7bbb58e790",
   "metadata": {
    "tags": []
   },
   "source": [
    "#### EfficientNetB0 COMPLETE"
   ]
  },
  {
   "cell_type": "code",
   "execution_count": 37,
   "id": "a48649c8-9da1-4461-92bf-6a7e49ad8c97",
   "metadata": {},
   "outputs": [],
   "source": [
    "model = tf.keras.applications.EfficientNetB0(input_shape = (224, 224,3), include_top = False)\n",
    "model = tf.keras.Sequential([model,\n",
    "                                 tf.keras.layers.GlobalAveragePooling2D(),\n",
    "                                 tf.keras.layers.Dense(3, activation=\"softmax\")                                     \n",
    "                                ])"
   ]
  },
  {
   "cell_type": "code",
   "execution_count": 38,
   "id": "1c6784b2-8685-4e4e-8c06-943480da81b7",
   "metadata": {},
   "outputs": [],
   "source": [
    "base_learning_rate = 0.001\n",
    "model.compile(optimizer=tf.keras.optimizers.Adam(lr=base_learning_rate),\n",
    "              loss=tf.keras.losses.CategoricalCrossentropy(),\n",
    "              metrics=['accuracy'])"
   ]
  },
  {
   "cell_type": "code",
   "execution_count": 39,
   "id": "f63f94ce-c533-41a9-b046-38b64b1b5063",
   "metadata": {
    "tags": []
   },
   "outputs": [
    {
     "name": "stdout",
     "output_type": "stream",
     "text": [
      "  14/2622 [..............................] - ETA: 2:52:04 - loss: 0.2020 - accuracy: 0.9107"
     ]
    },
    {
     "name": "stderr",
     "output_type": "stream",
     "text": [
      "\n",
      "KeyboardInterrupt\n",
      "\n"
     ]
    }
   ],
   "source": [
    "model.fit(training_set)\n",
    "model.save(\"models/EfficientNetB0_all\")"
   ]
  },
  {
   "cell_type": "markdown",
   "id": "3e7c1cda-daef-4973-9a15-74cfb2532ba9",
   "metadata": {
    "tags": []
   },
   "source": [
    "#### ~~EfficientNetV2B0~~ Possibly removed"
   ]
  },
  {
   "cell_type": "code",
   "execution_count": 40,
   "id": "74f50d56-c37c-4875-aac9-990902dc2efd",
   "metadata": {
    "collapsed": true,
    "jupyter": {
     "outputs_hidden": true
    },
    "tags": []
   },
   "outputs": [
    {
     "ename": "AttributeError",
     "evalue": "module 'tensorflow.keras.applications' has no attribute 'EfficientNetV2B0'",
     "output_type": "error",
     "traceback": [
      "\u001b[1;31m---------------------------------------------------------------------------\u001b[0m",
      "\u001b[1;31mAttributeError\u001b[0m                            Traceback (most recent call last)",
      "Input \u001b[1;32mIn [40]\u001b[0m, in \u001b[0;36m<cell line: 1>\u001b[1;34m()\u001b[0m\n\u001b[1;32m----> 1\u001b[0m model \u001b[38;5;241m=\u001b[39m \u001b[43mtf\u001b[49m\u001b[38;5;241;43m.\u001b[39;49m\u001b[43mkeras\u001b[49m\u001b[38;5;241;43m.\u001b[39;49m\u001b[43mapplications\u001b[49m\u001b[38;5;241;43m.\u001b[39;49m\u001b[43mEfficientNetV2B0\u001b[49m(input_shape \u001b[38;5;241m=\u001b[39m (\u001b[38;5;241m224\u001b[39m, \u001b[38;5;241m224\u001b[39m,\u001b[38;5;241m3\u001b[39m), include_top \u001b[38;5;241m=\u001b[39m \u001b[38;5;28;01mFalse\u001b[39;00m)\n\u001b[0;32m      2\u001b[0m model \u001b[38;5;241m=\u001b[39m tf\u001b[38;5;241m.\u001b[39mkeras\u001b[38;5;241m.\u001b[39mSequential([model,\n\u001b[0;32m      3\u001b[0m                                  tf\u001b[38;5;241m.\u001b[39mkeras\u001b[38;5;241m.\u001b[39mlayers\u001b[38;5;241m.\u001b[39mGlobalAveragePooling2D(),\n\u001b[0;32m      4\u001b[0m                                  tf\u001b[38;5;241m.\u001b[39mkeras\u001b[38;5;241m.\u001b[39mlayers\u001b[38;5;241m.\u001b[39mDense(\u001b[38;5;241m3\u001b[39m, activation\u001b[38;5;241m=\u001b[39m\u001b[38;5;124m\"\u001b[39m\u001b[38;5;124msoftmax\u001b[39m\u001b[38;5;124m\"\u001b[39m)                                     \n\u001b[0;32m      5\u001b[0m                                 ])\n",
      "\u001b[1;31mAttributeError\u001b[0m: module 'tensorflow.keras.applications' has no attribute 'EfficientNetV2B0'"
     ]
    }
   ],
   "source": [
    "model = tf.keras.applications.EfficientNetV2B0(input_shape = (224, 224,3), include_top = False)\n",
    "model = tf.keras.Sequential([model,\n",
    "                                 tf.keras.layers.GlobalAveragePooling2D(),\n",
    "                                 tf.keras.layers.Dense(3, activation=\"softmax\")                                     \n",
    "                                ])"
   ]
  },
  {
   "cell_type": "code",
   "execution_count": 41,
   "id": "a4cf63cc-1261-4707-8fce-7d9b87203316",
   "metadata": {},
   "outputs": [],
   "source": [
    "base_learning_rate = 0.001\n",
    "model.compile(optimizer=tf.keras.optimizers.Adam(lr=base_learning_rate),\n",
    "              loss=tf.keras.losses.CategoricalCrossentropy(),\n",
    "              metrics=['accuracy'])"
   ]
  },
  {
   "cell_type": "code",
   "execution_count": null,
   "id": "f4ba8ea0-d943-48d4-bb6d-434d0241c53a",
   "metadata": {
    "tags": []
   },
   "outputs": [],
   "source": [
    "model.fit(training_set)\n",
    "model.save(\"models/EfficientNetV2B0_all\")"
   ]
  },
  {
   "cell_type": "markdown",
   "id": "fb1becfd-e78a-44bd-a107-ea22f7953f58",
   "metadata": {
    "tags": []
   },
   "source": [
    "#### ResNet50 COMPLETED"
   ]
  },
  {
   "cell_type": "code",
   "execution_count": null,
   "id": "9641aae3-4966-4290-8e15-acc961563943",
   "metadata": {},
   "outputs": [],
   "source": [
    "model = tf.keras.applications.ResNet50(input_shape = (224, 224,3), include_top = False)\n",
    "model = tf.keras.Sequential([model,\n",
    "                                 tf.keras.layers.GlobalAveragePooling2D(),\n",
    "                                 tf.keras.layers.Dense(3, activation=\"softmax\")                                     \n",
    "                                ])"
   ]
  },
  {
   "cell_type": "code",
   "execution_count": null,
   "id": "626c4d94-c175-4ece-9eb4-22d5d8b84d1a",
   "metadata": {},
   "outputs": [],
   "source": [
    "base_learning_rate = 0.001\n",
    "model.compile(optimizer=tf.keras.optimizers.Adam(lr=base_learning_rate),\n",
    "              loss=tf.keras.losses.CategoricalCrossentropy(),\n",
    "              metrics=['accuracy'])"
   ]
  },
  {
   "cell_type": "code",
   "execution_count": null,
   "id": "0826d567-906d-4015-9f16-23bdae4421fc",
   "metadata": {
    "tags": []
   },
   "outputs": [
    {
     "name": "stdout",
     "output_type": "stream",
     "text": [
      "   6/2622 [..............................] - ETA: 6:12:40 - loss: 0.3111 - accuracy: 0.8906"
     ]
    },
    {
     "name": "stderr",
     "output_type": "stream",
     "text": [
      "\n",
      "KeyboardInterrupt\n",
      "\n"
     ]
    }
   ],
   "source": [
    "model.fit(training_set)\n",
    "model.save(\"models/ResNet50_all\")"
   ]
  },
  {
   "cell_type": "markdown",
   "id": "9d39a70d-687b-4d64-952e-190406695454",
   "metadata": {
    "tags": []
   },
   "source": []
  },
  {
   "cell_type": "markdown",
   "id": "4cf3db89-7086-43ae-a234-280766aaa8f0",
   "metadata": {
    "tags": []
   },
   "source": [
    "### Score"
   ]
  },
  {
   "cell_type": "code",
   "execution_count": 8,
   "id": "3c39809f-3ea2-4d5b-9312-65a35d2edf0d",
   "metadata": {
    "tags": []
   },
   "outputs": [],
   "source": [
    "score = {}\n",
    "def get_predicted_class(prediction):\n",
    "    x = 0\n",
    "    for i in range(1,3): #REMEMBER: Change second parameter if number of classes increases\n",
    "        if prediction[0][i] > prediction[0][x]:\n",
    "            x = i\n",
    "    return [\"Demospongiae\", \"Hexactinellida\", \"Negative\"][x]\n",
    "    \n",
    "def get_label_index(label):\n",
    "    array = label.numpy()[0]\n",
    "    i = 0\n",
    "    while array[i] != 1:\n",
    "        i += 1\n",
    "    return [\"Demospongiae\", \"Hexactinellida\", \"Negative\"][i]\n",
    "\n",
    "def get_score(predictions):\n",
    "    total_correct = 0\n",
    "    for x in predictions:\n",
    "        if x[0] == x[1]:\n",
    "            total_correct += 1\n",
    "        else:\n",
    "            print(\"labeled \"+x[1]+\" as \"+x[0])\n",
    "    score = total_correct/len(predictions)*100\n",
    "    print(\"Accuracy: \"+str(round(score,2))+\"%\")\n",
    "    return score\n",
    "\n",
    "def score_model(model_name):\n",
    "    predictions = []\n",
    "    model = keras.models.load_model(\"models/\"+model_name)\n",
    "    for image, label in test_set:\n",
    "        entry = []\n",
    "        predict = model.predict(image)\n",
    "        entry.append(get_predicted_class(predict))\n",
    "        entry.append(get_label_index(label))\n",
    "\n",
    "        predictions.append(entry)\n",
    "    score[model_name] = get_score(predictions)"
   ]
  },
  {
   "cell_type": "code",
   "execution_count": 9,
   "id": "18ae1877-a748-4d5b-8db6-0de5ed419c8e",
   "metadata": {
    "tags": []
   },
   "outputs": [
    {
     "name": "stdout",
     "output_type": "stream",
     "text": [
      "labeled Negative as Hexactinellida\n",
      "Accuracy: 99.9%\n"
     ]
    }
   ],
   "source": [
    "score_model(\"resnet18_S4\") #99.94% (NOTE: Accuracies may be different due to more images laoded)"
   ]
  },
  {
   "cell_type": "code",
   "execution_count": 10,
   "id": "fb54d680-a974-48df-80e8-8baefe62c160",
   "metadata": {
    "tags": []
   },
   "outputs": [
    {
     "name": "stdout",
     "output_type": "stream",
     "text": [
      "Accuracy: 100.0%\n"
     ]
    }
   ],
   "source": [
    "score_model(\"mobilenet_S6\") #99.96%"
   ]
  },
  {
   "cell_type": "code",
   "execution_count": 11,
   "id": "567d742f-b25f-4fd3-816b-3a0955fdac66",
   "metadata": {
    "tags": []
   },
   "outputs": [
    {
     "name": "stdout",
     "output_type": "stream",
     "text": [
      "Accuracy: 100.0%\n"
     ]
    }
   ],
   "source": [
    "score_model(\"seresnet18_S6\") #99.95%"
   ]
  },
  {
   "cell_type": "code",
   "execution_count": 12,
   "id": "b616dba8-80b3-4845-be3d-aff1bde4713b",
   "metadata": {
    "tags": []
   },
   "outputs": [
    {
     "name": "stdout",
     "output_type": "stream",
     "text": [
      "Accuracy: 100.0%\n"
     ]
    }
   ],
   "source": [
    "score_model(\"inceptionv3\") #99.97%"
   ]
  },
  {
   "cell_type": "code",
   "execution_count": 13,
   "id": "03ad7605-78bc-430f-ad73-5fada6251195",
   "metadata": {
    "tags": []
   },
   "outputs": [
    {
     "name": "stdout",
     "output_type": "stream",
     "text": [
      "Accuracy: 100.0%\n"
     ]
    }
   ],
   "source": [
    "score_model(\"xception\") #99.94%"
   ]
  },
  {
   "cell_type": "code",
   "execution_count": 41,
   "id": "d09cfbf9-532c-4268-bf13-4247082f05c0",
   "metadata": {
    "tags": []
   },
   "outputs": [
    {
     "name": "stdout",
     "output_type": "stream",
     "text": [
      "Accuracy: 100.0%\n"
     ]
    }
   ],
   "source": [
    "score_model(\"densenet121_S4\") #99.96% (long runtime)"
   ]
  },
  {
   "cell_type": "code",
   "execution_count": 42,
   "id": "2876d335-95a8-49f6-9e56-51085bfd91db",
   "metadata": {
    "tags": []
   },
   "outputs": [
    {
     "name": "stdout",
     "output_type": "stream",
     "text": [
      "labeled Negative as Demospongiae\n",
      "labeled Negative as Demospongiae\n",
      "labeled Negative as Demospongiae\n",
      "labeled Negative as Hexactinellida\n",
      "labeled Negative as Hexactinellida\n",
      "labeled Negative as Hexactinellida\n",
      "labeled Negative as Hexactinellida\n",
      "labeled Negative as Hexactinellida\n",
      "labeled Negative as Hexactinellida\n",
      "labeled Negative as Hexactinellida\n",
      "labeled Negative as Hexactinellida\n",
      "labeled Negative as Demospongiae\n",
      "labeled Negative as Hexactinellida\n",
      "labeled Negative as Hexactinellida\n",
      "labeled Demospongiae as Hexactinellida\n",
      "labeled Negative as Hexactinellida\n",
      "labeled Negative as Hexactinellida\n",
      "labeled Negative as Hexactinellida\n",
      "labeled Negative as Hexactinellida\n",
      "labeled Negative as Hexactinellida\n",
      "labeled Negative as Hexactinellida\n",
      "labeled Negative as Demospongiae\n",
      "labeled Negative as Hexactinellida\n",
      "labeled Negative as Demospongiae\n",
      "labeled Negative as Demospongiae\n",
      "labeled Negative as Demospongiae\n",
      "labeled Negative as Hexactinellida\n",
      "labeled Negative as Hexactinellida\n",
      "labeled Hexactinellida as Demospongiae\n",
      "labeled Negative as Demospongiae\n",
      "labeled Negative as Hexactinellida\n",
      "labeled Hexactinellida as Demospongiae\n",
      "labeled Negative as Hexactinellida\n",
      "labeled Negative as Demospongiae\n",
      "labeled Negative as Hexactinellida\n",
      "labeled Negative as Demospongiae\n",
      "labeled Negative as Hexactinellida\n",
      "labeled Negative as Demospongiae\n",
      "labeled Negative as Demospongiae\n",
      "labeled Negative as Hexactinellida\n",
      "labeled Negative as Demospongiae\n",
      "labeled Demospongiae as Hexactinellida\n",
      "labeled Negative as Hexactinellida\n",
      "labeled Negative as Demospongiae\n",
      "labeled Negative as Hexactinellida\n",
      "labeled Hexactinellida as Demospongiae\n",
      "labeled Negative as Demospongiae\n",
      "labeled Negative as Demospongiae\n",
      "labeled Negative as Hexactinellida\n",
      "labeled Negative as Hexactinellida\n",
      "labeled Negative as Hexactinellida\n",
      "labeled Negative as Hexactinellida\n",
      "labeled Negative as Demospongiae\n",
      "labeled Negative as Hexactinellida\n",
      "labeled Negative as Hexactinellida\n",
      "labeled Negative as Hexactinellida\n",
      "labeled Hexactinellida as Demospongiae\n",
      "labeled Negative as Hexactinellida\n",
      "labeled Hexactinellida as Demospongiae\n",
      "Accuracy: 94.02%\n"
     ]
    }
   ],
   "source": [
    "score_model(\"VGG16_S4\") #98.91% (long runtime)"
   ]
  },
  {
   "cell_type": "code",
   "execution_count": 43,
   "id": "6cc5eb45-2ac2-42ed-9e8e-80cc45f781ed",
   "metadata": {
    "collapsed": true,
    "jupyter": {
     "outputs_hidden": true
    },
    "tags": []
   },
   "outputs": [
    {
     "name": "stdout",
     "output_type": "stream",
     "text": [
      "labeled Negative as Hexactinellida\n",
      "labeled Negative as Hexactinellida\n",
      "labeled Negative as Hexactinellida\n",
      "labeled Negative as Hexactinellida\n",
      "labeled Negative as Hexactinellida\n",
      "labeled Negative as Hexactinellida\n",
      "labeled Negative as Hexactinellida\n",
      "labeled Negative as Hexactinellida\n",
      "labeled Negative as Hexactinellida\n",
      "labeled Negative as Hexactinellida\n",
      "labeled Negative as Hexactinellida\n",
      "labeled Negative as Hexactinellida\n",
      "labeled Negative as Hexactinellida\n",
      "labeled Negative as Hexactinellida\n",
      "labeled Negative as Hexactinellida\n",
      "labeled Negative as Hexactinellida\n",
      "labeled Negative as Hexactinellida\n",
      "labeled Negative as Hexactinellida\n",
      "labeled Negative as Hexactinellida\n",
      "labeled Negative as Hexactinellida\n",
      "labeled Negative as Hexactinellida\n",
      "labeled Negative as Hexactinellida\n",
      "labeled Negative as Hexactinellida\n",
      "labeled Negative as Hexactinellida\n",
      "labeled Negative as Hexactinellida\n",
      "labeled Negative as Hexactinellida\n",
      "labeled Negative as Hexactinellida\n",
      "labeled Negative as Hexactinellida\n",
      "labeled Negative as Hexactinellida\n",
      "labeled Negative as Hexactinellida\n",
      "labeled Negative as Hexactinellida\n",
      "labeled Negative as Hexactinellida\n",
      "labeled Negative as Hexactinellida\n",
      "labeled Negative as Hexactinellida\n",
      "labeled Negative as Hexactinellida\n",
      "labeled Negative as Hexactinellida\n",
      "labeled Negative as Hexactinellida\n",
      "labeled Negative as Hexactinellida\n",
      "labeled Negative as Hexactinellida\n",
      "labeled Negative as Hexactinellida\n",
      "labeled Negative as Hexactinellida\n",
      "labeled Negative as Hexactinellida\n",
      "labeled Negative as Hexactinellida\n",
      "labeled Negative as Hexactinellida\n",
      "labeled Negative as Hexactinellida\n",
      "labeled Negative as Hexactinellida\n",
      "labeled Negative as Hexactinellida\n",
      "labeled Negative as Hexactinellida\n",
      "labeled Negative as Hexactinellida\n",
      "labeled Negative as Hexactinellida\n",
      "labeled Negative as Hexactinellida\n",
      "labeled Negative as Hexactinellida\n",
      "labeled Negative as Hexactinellida\n",
      "labeled Negative as Hexactinellida\n",
      "labeled Negative as Hexactinellida\n",
      "labeled Negative as Hexactinellida\n",
      "labeled Negative as Hexactinellida\n",
      "labeled Negative as Hexactinellida\n",
      "labeled Negative as Hexactinellida\n",
      "labeled Negative as Hexactinellida\n",
      "labeled Negative as Hexactinellida\n",
      "labeled Negative as Hexactinellida\n",
      "labeled Negative as Hexactinellida\n",
      "labeled Negative as Hexactinellida\n",
      "labeled Negative as Hexactinellida\n",
      "labeled Negative as Hexactinellida\n",
      "labeled Negative as Hexactinellida\n",
      "labeled Negative as Hexactinellida\n",
      "labeled Negative as Hexactinellida\n",
      "labeled Negative as Hexactinellida\n",
      "labeled Negative as Hexactinellida\n",
      "labeled Negative as Hexactinellida\n",
      "labeled Negative as Hexactinellida\n",
      "labeled Negative as Hexactinellida\n",
      "labeled Negative as Hexactinellida\n",
      "labeled Negative as Hexactinellida\n",
      "labeled Negative as Hexactinellida\n",
      "labeled Negative as Hexactinellida\n",
      "labeled Negative as Hexactinellida\n",
      "labeled Negative as Hexactinellida\n",
      "labeled Negative as Hexactinellida\n",
      "labeled Negative as Hexactinellida\n",
      "labeled Negative as Hexactinellida\n",
      "labeled Negative as Hexactinellida\n",
      "labeled Negative as Hexactinellida\n",
      "labeled Negative as Hexactinellida\n",
      "labeled Negative as Hexactinellida\n",
      "labeled Negative as Hexactinellida\n",
      "labeled Negative as Hexactinellida\n",
      "labeled Negative as Hexactinellida\n",
      "labeled Negative as Hexactinellida\n",
      "labeled Demospongiae as Hexactinellida\n",
      "labeled Negative as Hexactinellida\n",
      "labeled Negative as Hexactinellida\n",
      "labeled Negative as Hexactinellida\n",
      "labeled Negative as Hexactinellida\n",
      "labeled Negative as Hexactinellida\n",
      "labeled Negative as Hexactinellida\n",
      "labeled Negative as Hexactinellida\n",
      "labeled Negative as Hexactinellida\n",
      "labeled Negative as Hexactinellida\n",
      "labeled Negative as Hexactinellida\n",
      "labeled Negative as Hexactinellida\n",
      "labeled Negative as Hexactinellida\n",
      "labeled Negative as Hexactinellida\n",
      "labeled Negative as Hexactinellida\n",
      "labeled Negative as Hexactinellida\n",
      "labeled Negative as Hexactinellida\n",
      "labeled Negative as Hexactinellida\n",
      "labeled Negative as Hexactinellida\n",
      "labeled Negative as Hexactinellida\n",
      "labeled Negative as Hexactinellida\n",
      "labeled Negative as Hexactinellida\n",
      "labeled Negative as Hexactinellida\n",
      "labeled Negative as Hexactinellida\n",
      "labeled Negative as Hexactinellida\n",
      "labeled Negative as Hexactinellida\n",
      "labeled Negative as Hexactinellida\n",
      "labeled Negative as Hexactinellida\n",
      "labeled Negative as Hexactinellida\n",
      "labeled Negative as Hexactinellida\n",
      "labeled Negative as Hexactinellida\n",
      "labeled Negative as Hexactinellida\n",
      "labeled Negative as Hexactinellida\n",
      "labeled Negative as Hexactinellida\n",
      "labeled Negative as Hexactinellida\n",
      "labeled Negative as Hexactinellida\n",
      "labeled Negative as Hexactinellida\n",
      "labeled Negative as Hexactinellida\n",
      "labeled Negative as Hexactinellida\n",
      "labeled Negative as Hexactinellida\n",
      "labeled Negative as Hexactinellida\n",
      "labeled Negative as Hexactinellida\n",
      "labeled Negative as Hexactinellida\n",
      "labeled Negative as Hexactinellida\n",
      "labeled Negative as Hexactinellida\n",
      "labeled Negative as Hexactinellida\n",
      "labeled Negative as Hexactinellida\n",
      "labeled Negative as Hexactinellida\n",
      "labeled Negative as Hexactinellida\n",
      "labeled Negative as Hexactinellida\n",
      "labeled Negative as Hexactinellida\n",
      "labeled Negative as Hexactinellida\n",
      "labeled Negative as Hexactinellida\n",
      "labeled Negative as Hexactinellida\n",
      "labeled Negative as Hexactinellida\n",
      "labeled Negative as Hexactinellida\n",
      "labeled Negative as Hexactinellida\n",
      "labeled Negative as Hexactinellida\n",
      "labeled Negative as Hexactinellida\n",
      "labeled Negative as Hexactinellida\n",
      "labeled Negative as Hexactinellida\n",
      "labeled Negative as Hexactinellida\n",
      "labeled Negative as Hexactinellida\n",
      "labeled Negative as Hexactinellida\n",
      "labeled Negative as Hexactinellida\n",
      "labeled Negative as Hexactinellida\n",
      "labeled Negative as Hexactinellida\n",
      "labeled Negative as Hexactinellida\n",
      "labeled Negative as Hexactinellida\n",
      "labeled Negative as Hexactinellida\n",
      "labeled Negative as Hexactinellida\n",
      "labeled Negative as Hexactinellida\n",
      "labeled Negative as Hexactinellida\n",
      "labeled Negative as Hexactinellida\n",
      "labeled Negative as Hexactinellida\n",
      "labeled Negative as Hexactinellida\n",
      "labeled Negative as Hexactinellida\n",
      "labeled Negative as Hexactinellida\n",
      "labeled Negative as Hexactinellida\n",
      "labeled Negative as Hexactinellida\n",
      "labeled Negative as Hexactinellida\n",
      "labeled Negative as Hexactinellida\n",
      "labeled Negative as Hexactinellida\n",
      "labeled Negative as Hexactinellida\n",
      "labeled Negative as Hexactinellida\n",
      "labeled Negative as Hexactinellida\n",
      "labeled Negative as Hexactinellida\n",
      "labeled Negative as Hexactinellida\n",
      "labeled Negative as Hexactinellida\n",
      "labeled Negative as Hexactinellida\n",
      "labeled Negative as Hexactinellida\n",
      "labeled Negative as Hexactinellida\n",
      "labeled Negative as Hexactinellida\n",
      "labeled Negative as Hexactinellida\n",
      "labeled Negative as Hexactinellida\n",
      "labeled Negative as Hexactinellida\n",
      "labeled Negative as Hexactinellida\n",
      "labeled Negative as Hexactinellida\n",
      "labeled Negative as Hexactinellida\n",
      "labeled Negative as Hexactinellida\n",
      "labeled Negative as Hexactinellida\n",
      "labeled Negative as Hexactinellida\n",
      "labeled Negative as Hexactinellida\n",
      "labeled Negative as Hexactinellida\n",
      "labeled Negative as Hexactinellida\n",
      "labeled Negative as Hexactinellida\n",
      "labeled Negative as Hexactinellida\n",
      "labeled Negative as Hexactinellida\n",
      "labeled Negative as Hexactinellida\n",
      "labeled Negative as Hexactinellida\n",
      "labeled Negative as Hexactinellida\n",
      "labeled Negative as Hexactinellida\n",
      "labeled Negative as Hexactinellida\n",
      "labeled Negative as Hexactinellida\n",
      "labeled Negative as Hexactinellida\n",
      "labeled Negative as Hexactinellida\n",
      "labeled Negative as Hexactinellida\n",
      "labeled Negative as Hexactinellida\n",
      "labeled Negative as Hexactinellida\n",
      "labeled Negative as Hexactinellida\n",
      "labeled Negative as Hexactinellida\n",
      "labeled Negative as Hexactinellida\n",
      "labeled Negative as Hexactinellida\n",
      "labeled Negative as Hexactinellida\n",
      "labeled Negative as Hexactinellida\n",
      "labeled Negative as Hexactinellida\n",
      "labeled Negative as Hexactinellida\n",
      "labeled Negative as Hexactinellida\n",
      "labeled Negative as Hexactinellida\n",
      "labeled Demospongiae as Hexactinellida\n",
      "labeled Negative as Hexactinellida\n",
      "labeled Negative as Hexactinellida\n",
      "labeled Negative as Hexactinellida\n",
      "labeled Negative as Hexactinellida\n",
      "labeled Negative as Hexactinellida\n",
      "labeled Negative as Hexactinellida\n",
      "labeled Negative as Hexactinellida\n",
      "labeled Negative as Hexactinellida\n",
      "labeled Negative as Hexactinellida\n",
      "labeled Negative as Hexactinellida\n",
      "labeled Negative as Hexactinellida\n",
      "labeled Negative as Hexactinellida\n",
      "labeled Negative as Hexactinellida\n",
      "labeled Negative as Hexactinellida\n",
      "labeled Negative as Hexactinellida\n",
      "labeled Negative as Hexactinellida\n",
      "labeled Negative as Hexactinellida\n",
      "labeled Negative as Hexactinellida\n",
      "labeled Negative as Hexactinellida\n",
      "labeled Negative as Hexactinellida\n",
      "labeled Negative as Hexactinellida\n",
      "labeled Negative as Hexactinellida\n",
      "labeled Negative as Hexactinellida\n",
      "labeled Negative as Hexactinellida\n",
      "labeled Negative as Hexactinellida\n",
      "labeled Negative as Hexactinellida\n",
      "labeled Negative as Hexactinellida\n",
      "labeled Negative as Hexactinellida\n",
      "labeled Negative as Hexactinellida\n",
      "labeled Negative as Hexactinellida\n",
      "labeled Negative as Hexactinellida\n",
      "labeled Negative as Hexactinellida\n",
      "labeled Negative as Hexactinellida\n",
      "labeled Negative as Hexactinellida\n",
      "labeled Negative as Hexactinellida\n",
      "labeled Negative as Hexactinellida\n",
      "labeled Negative as Hexactinellida\n",
      "labeled Negative as Hexactinellida\n",
      "labeled Negative as Hexactinellida\n",
      "labeled Negative as Hexactinellida\n",
      "labeled Negative as Hexactinellida\n",
      "labeled Negative as Hexactinellida\n",
      "labeled Negative as Hexactinellida\n",
      "labeled Negative as Hexactinellida\n",
      "labeled Negative as Hexactinellida\n",
      "labeled Negative as Hexactinellida\n",
      "labeled Negative as Hexactinellida\n",
      "labeled Negative as Hexactinellida\n",
      "labeled Negative as Hexactinellida\n",
      "labeled Negative as Hexactinellida\n",
      "labeled Negative as Hexactinellida\n",
      "labeled Negative as Hexactinellida\n",
      "labeled Negative as Hexactinellida\n",
      "labeled Negative as Hexactinellida\n",
      "labeled Negative as Hexactinellida\n",
      "labeled Negative as Hexactinellida\n",
      "labeled Negative as Hexactinellida\n",
      "labeled Negative as Hexactinellida\n",
      "labeled Demospongiae as Hexactinellida\n",
      "labeled Negative as Hexactinellida\n",
      "labeled Negative as Hexactinellida\n",
      "labeled Negative as Hexactinellida\n",
      "labeled Negative as Hexactinellida\n",
      "labeled Negative as Hexactinellida\n",
      "labeled Negative as Hexactinellida\n",
      "labeled Negative as Hexactinellida\n",
      "labeled Negative as Hexactinellida\n",
      "labeled Negative as Hexactinellida\n",
      "labeled Negative as Hexactinellida\n",
      "labeled Negative as Hexactinellida\n",
      "labeled Negative as Hexactinellida\n",
      "labeled Negative as Hexactinellida\n",
      "labeled Negative as Hexactinellida\n",
      "labeled Negative as Hexactinellida\n",
      "labeled Negative as Hexactinellida\n",
      "labeled Negative as Hexactinellida\n",
      "labeled Negative as Hexactinellida\n",
      "labeled Negative as Hexactinellida\n",
      "labeled Negative as Hexactinellida\n",
      "labeled Negative as Hexactinellida\n",
      "labeled Negative as Hexactinellida\n",
      "labeled Negative as Hexactinellida\n",
      "labeled Negative as Hexactinellida\n",
      "labeled Negative as Hexactinellida\n",
      "labeled Negative as Hexactinellida\n",
      "labeled Negative as Hexactinellida\n",
      "labeled Negative as Hexactinellida\n",
      "labeled Negative as Hexactinellida\n",
      "labeled Negative as Hexactinellida\n",
      "labeled Negative as Hexactinellida\n",
      "labeled Negative as Hexactinellida\n",
      "labeled Negative as Hexactinellida\n",
      "labeled Negative as Hexactinellida\n",
      "labeled Negative as Hexactinellida\n",
      "labeled Negative as Hexactinellida\n",
      "labeled Negative as Hexactinellida\n",
      "labeled Demospongiae as Hexactinellida\n",
      "labeled Negative as Hexactinellida\n",
      "labeled Negative as Hexactinellida\n",
      "labeled Negative as Hexactinellida\n",
      "labeled Negative as Hexactinellida\n",
      "labeled Negative as Hexactinellida\n",
      "labeled Negative as Hexactinellida\n",
      "labeled Negative as Hexactinellida\n",
      "labeled Negative as Hexactinellida\n",
      "labeled Negative as Hexactinellida\n",
      "labeled Negative as Hexactinellida\n",
      "labeled Negative as Hexactinellida\n",
      "labeled Negative as Hexactinellida\n",
      "labeled Negative as Hexactinellida\n",
      "labeled Negative as Hexactinellida\n",
      "labeled Negative as Hexactinellida\n",
      "labeled Negative as Hexactinellida\n",
      "labeled Negative as Hexactinellida\n",
      "labeled Negative as Hexactinellida\n",
      "labeled Negative as Hexactinellida\n",
      "labeled Negative as Hexactinellida\n",
      "labeled Negative as Hexactinellida\n",
      "labeled Negative as Hexactinellida\n",
      "labeled Negative as Hexactinellida\n",
      "labeled Negative as Hexactinellida\n",
      "labeled Negative as Hexactinellida\n",
      "labeled Negative as Hexactinellida\n",
      "labeled Negative as Hexactinellida\n",
      "labeled Negative as Hexactinellida\n",
      "labeled Negative as Hexactinellida\n",
      "labeled Negative as Hexactinellida\n",
      "labeled Negative as Hexactinellida\n",
      "labeled Negative as Hexactinellida\n",
      "labeled Negative as Hexactinellida\n",
      "labeled Negative as Hexactinellida\n",
      "labeled Negative as Hexactinellida\n",
      "labeled Negative as Hexactinellida\n",
      "labeled Negative as Hexactinellida\n",
      "labeled Negative as Hexactinellida\n",
      "labeled Negative as Hexactinellida\n",
      "labeled Negative as Hexactinellida\n",
      "labeled Negative as Hexactinellida\n",
      "labeled Negative as Hexactinellida\n",
      "labeled Negative as Hexactinellida\n",
      "labeled Negative as Hexactinellida\n",
      "labeled Negative as Hexactinellida\n",
      "labeled Negative as Hexactinellida\n",
      "labeled Negative as Hexactinellida\n",
      "labeled Negative as Hexactinellida\n",
      "labeled Negative as Hexactinellida\n",
      "labeled Negative as Hexactinellida\n",
      "labeled Negative as Hexactinellida\n",
      "labeled Negative as Hexactinellida\n",
      "labeled Negative as Hexactinellida\n",
      "labeled Negative as Hexactinellida\n",
      "labeled Negative as Hexactinellida\n",
      "labeled Demospongiae as Hexactinellida\n",
      "labeled Negative as Hexactinellida\n",
      "labeled Negative as Hexactinellida\n",
      "labeled Negative as Hexactinellida\n",
      "labeled Negative as Hexactinellida\n",
      "labeled Negative as Hexactinellida\n",
      "labeled Negative as Hexactinellida\n",
      "labeled Negative as Hexactinellida\n",
      "labeled Negative as Hexactinellida\n",
      "labeled Negative as Hexactinellida\n",
      "labeled Negative as Hexactinellida\n",
      "labeled Negative as Hexactinellida\n",
      "labeled Demospongiae as Hexactinellida\n",
      "labeled Negative as Hexactinellida\n",
      "labeled Negative as Hexactinellida\n",
      "labeled Negative as Hexactinellida\n",
      "labeled Negative as Hexactinellida\n",
      "labeled Negative as Hexactinellida\n",
      "labeled Negative as Hexactinellida\n",
      "labeled Negative as Hexactinellida\n",
      "labeled Negative as Hexactinellida\n",
      "labeled Negative as Hexactinellida\n",
      "labeled Negative as Hexactinellida\n",
      "labeled Negative as Hexactinellida\n",
      "labeled Negative as Hexactinellida\n",
      "labeled Negative as Hexactinellida\n",
      "labeled Negative as Hexactinellida\n",
      "labeled Negative as Hexactinellida\n",
      "labeled Negative as Hexactinellida\n",
      "labeled Negative as Hexactinellida\n",
      "labeled Negative as Hexactinellida\n",
      "labeled Negative as Hexactinellida\n",
      "labeled Negative as Hexactinellida\n",
      "labeled Negative as Hexactinellida\n",
      "labeled Negative as Hexactinellida\n",
      "labeled Negative as Hexactinellida\n",
      "labeled Negative as Hexactinellida\n",
      "labeled Negative as Hexactinellida\n",
      "labeled Negative as Hexactinellida\n",
      "labeled Negative as Hexactinellida\n",
      "labeled Negative as Hexactinellida\n",
      "labeled Negative as Hexactinellida\n",
      "labeled Negative as Hexactinellida\n",
      "labeled Negative as Hexactinellida\n",
      "labeled Negative as Hexactinellida\n",
      "labeled Negative as Hexactinellida\n",
      "labeled Negative as Hexactinellida\n",
      "labeled Negative as Hexactinellida\n",
      "labeled Negative as Hexactinellida\n",
      "labeled Negative as Hexactinellida\n",
      "labeled Negative as Hexactinellida\n",
      "labeled Negative as Hexactinellida\n",
      "labeled Negative as Hexactinellida\n",
      "labeled Negative as Hexactinellida\n",
      "labeled Negative as Hexactinellida\n",
      "labeled Negative as Hexactinellida\n",
      "labeled Negative as Hexactinellida\n",
      "labeled Negative as Hexactinellida\n",
      "labeled Negative as Hexactinellida\n",
      "labeled Negative as Hexactinellida\n",
      "labeled Negative as Hexactinellida\n",
      "labeled Negative as Hexactinellida\n",
      "labeled Negative as Hexactinellida\n",
      "labeled Negative as Hexactinellida\n",
      "labeled Negative as Hexactinellida\n",
      "labeled Negative as Hexactinellida\n",
      "labeled Negative as Hexactinellida\n",
      "labeled Negative as Hexactinellida\n",
      "labeled Negative as Hexactinellida\n",
      "labeled Negative as Hexactinellida\n",
      "labeled Negative as Hexactinellida\n",
      "labeled Negative as Hexactinellida\n",
      "labeled Negative as Hexactinellida\n",
      "labeled Negative as Hexactinellida\n",
      "labeled Negative as Hexactinellida\n",
      "labeled Negative as Hexactinellida\n",
      "labeled Negative as Hexactinellida\n",
      "labeled Negative as Hexactinellida\n",
      "labeled Negative as Hexactinellida\n",
      "labeled Negative as Hexactinellida\n",
      "labeled Negative as Hexactinellida\n",
      "labeled Negative as Hexactinellida\n",
      "labeled Negative as Hexactinellida\n",
      "labeled Negative as Hexactinellida\n",
      "labeled Negative as Hexactinellida\n",
      "labeled Negative as Hexactinellida\n",
      "labeled Negative as Hexactinellida\n",
      "labeled Negative as Hexactinellida\n",
      "labeled Negative as Hexactinellida\n",
      "labeled Negative as Hexactinellida\n",
      "labeled Negative as Hexactinellida\n",
      "labeled Negative as Hexactinellida\n",
      "labeled Demospongiae as Hexactinellida\n",
      "labeled Negative as Hexactinellida\n",
      "labeled Negative as Hexactinellida\n",
      "labeled Negative as Hexactinellida\n",
      "labeled Negative as Hexactinellida\n",
      "labeled Negative as Hexactinellida\n",
      "labeled Negative as Hexactinellida\n",
      "labeled Negative as Hexactinellida\n",
      "labeled Negative as Hexactinellida\n",
      "labeled Negative as Hexactinellida\n",
      "labeled Negative as Hexactinellida\n",
      "labeled Negative as Hexactinellida\n",
      "labeled Negative as Hexactinellida\n",
      "labeled Negative as Hexactinellida\n",
      "labeled Negative as Hexactinellida\n",
      "labeled Negative as Hexactinellida\n",
      "labeled Negative as Hexactinellida\n",
      "labeled Negative as Hexactinellida\n",
      "labeled Negative as Hexactinellida\n",
      "labeled Negative as Hexactinellida\n",
      "labeled Negative as Hexactinellida\n",
      "labeled Negative as Hexactinellida\n",
      "labeled Negative as Hexactinellida\n",
      "labeled Negative as Hexactinellida\n",
      "labeled Negative as Hexactinellida\n",
      "labeled Negative as Hexactinellida\n",
      "labeled Negative as Hexactinellida\n",
      "labeled Negative as Hexactinellida\n",
      "labeled Negative as Hexactinellida\n",
      "labeled Negative as Hexactinellida\n",
      "labeled Negative as Hexactinellida\n",
      "labeled Negative as Hexactinellida\n",
      "labeled Negative as Hexactinellida\n",
      "labeled Negative as Hexactinellida\n",
      "labeled Negative as Hexactinellida\n",
      "labeled Negative as Hexactinellida\n",
      "labeled Negative as Hexactinellida\n",
      "labeled Negative as Hexactinellida\n",
      "labeled Negative as Hexactinellida\n",
      "labeled Negative as Hexactinellida\n",
      "labeled Negative as Hexactinellida\n",
      "labeled Negative as Hexactinellida\n",
      "labeled Negative as Hexactinellida\n",
      "labeled Negative as Hexactinellida\n",
      "labeled Negative as Hexactinellida\n",
      "labeled Negative as Hexactinellida\n",
      "labeled Negative as Hexactinellida\n",
      "labeled Negative as Hexactinellida\n",
      "labeled Negative as Hexactinellida\n",
      "labeled Negative as Hexactinellida\n",
      "labeled Negative as Hexactinellida\n",
      "labeled Negative as Hexactinellida\n",
      "labeled Negative as Hexactinellida\n",
      "labeled Negative as Hexactinellida\n",
      "labeled Negative as Hexactinellida\n",
      "labeled Negative as Hexactinellida\n",
      "labeled Negative as Hexactinellida\n",
      "labeled Negative as Hexactinellida\n",
      "labeled Negative as Hexactinellida\n",
      "labeled Negative as Hexactinellida\n",
      "labeled Negative as Hexactinellida\n",
      "labeled Negative as Hexactinellida\n",
      "labeled Negative as Hexactinellida\n",
      "labeled Negative as Hexactinellida\n",
      "labeled Negative as Hexactinellida\n",
      "labeled Negative as Hexactinellida\n",
      "labeled Negative as Hexactinellida\n",
      "labeled Negative as Hexactinellida\n",
      "labeled Negative as Hexactinellida\n",
      "labeled Negative as Hexactinellida\n",
      "labeled Negative as Hexactinellida\n",
      "labeled Negative as Hexactinellida\n",
      "labeled Negative as Hexactinellida\n",
      "labeled Negative as Hexactinellida\n",
      "labeled Negative as Hexactinellida\n",
      "labeled Negative as Hexactinellida\n",
      "labeled Negative as Hexactinellida\n",
      "labeled Negative as Hexactinellida\n",
      "labeled Negative as Hexactinellida\n",
      "labeled Negative as Hexactinellida\n",
      "labeled Negative as Hexactinellida\n",
      "labeled Negative as Hexactinellida\n",
      "labeled Negative as Hexactinellida\n",
      "labeled Negative as Hexactinellida\n",
      "labeled Negative as Hexactinellida\n",
      "labeled Negative as Hexactinellida\n",
      "labeled Negative as Hexactinellida\n",
      "labeled Negative as Hexactinellida\n",
      "labeled Negative as Hexactinellida\n",
      "labeled Negative as Hexactinellida\n",
      "labeled Negative as Hexactinellida\n",
      "labeled Negative as Hexactinellida\n",
      "labeled Negative as Hexactinellida\n",
      "labeled Negative as Hexactinellida\n",
      "labeled Negative as Hexactinellida\n",
      "labeled Negative as Hexactinellida\n",
      "labeled Negative as Hexactinellida\n",
      "labeled Negative as Hexactinellida\n",
      "labeled Negative as Hexactinellida\n",
      "labeled Negative as Hexactinellida\n",
      "labeled Negative as Hexactinellida\n",
      "labeled Negative as Hexactinellida\n",
      "labeled Negative as Hexactinellida\n",
      "labeled Negative as Hexactinellida\n",
      "labeled Negative as Hexactinellida\n",
      "labeled Negative as Hexactinellida\n",
      "labeled Negative as Hexactinellida\n",
      "labeled Negative as Hexactinellida\n",
      "labeled Negative as Hexactinellida\n",
      "labeled Negative as Hexactinellida\n",
      "labeled Negative as Hexactinellida\n",
      "labeled Negative as Hexactinellida\n",
      "labeled Negative as Hexactinellida\n",
      "labeled Negative as Hexactinellida\n",
      "labeled Negative as Hexactinellida\n",
      "labeled Negative as Hexactinellida\n",
      "labeled Negative as Hexactinellida\n",
      "labeled Negative as Hexactinellida\n",
      "labeled Negative as Hexactinellida\n",
      "labeled Negative as Hexactinellida\n",
      "labeled Negative as Hexactinellida\n",
      "labeled Negative as Hexactinellida\n",
      "labeled Negative as Hexactinellida\n",
      "labeled Negative as Hexactinellida\n",
      "labeled Negative as Hexactinellida\n",
      "labeled Negative as Hexactinellida\n",
      "labeled Negative as Hexactinellida\n",
      "labeled Negative as Hexactinellida\n",
      "labeled Negative as Hexactinellida\n",
      "labeled Negative as Hexactinellida\n",
      "labeled Negative as Hexactinellida\n",
      "labeled Negative as Hexactinellida\n",
      "labeled Negative as Hexactinellida\n",
      "labeled Negative as Hexactinellida\n",
      "labeled Negative as Hexactinellida\n",
      "labeled Negative as Hexactinellida\n",
      "labeled Negative as Hexactinellida\n",
      "labeled Negative as Hexactinellida\n",
      "labeled Negative as Hexactinellida\n",
      "labeled Negative as Hexactinellida\n",
      "labeled Negative as Hexactinellida\n",
      "labeled Negative as Hexactinellida\n",
      "labeled Negative as Hexactinellida\n",
      "labeled Negative as Hexactinellida\n",
      "labeled Negative as Hexactinellida\n",
      "labeled Negative as Hexactinellida\n",
      "labeled Negative as Hexactinellida\n",
      "labeled Negative as Hexactinellida\n",
      "labeled Negative as Hexactinellida\n",
      "labeled Negative as Hexactinellida\n",
      "labeled Negative as Hexactinellida\n",
      "labeled Negative as Hexactinellida\n",
      "labeled Negative as Hexactinellida\n",
      "labeled Negative as Hexactinellida\n",
      "labeled Negative as Hexactinellida\n",
      "labeled Negative as Hexactinellida\n",
      "labeled Negative as Hexactinellida\n",
      "labeled Negative as Hexactinellida\n",
      "labeled Negative as Hexactinellida\n",
      "labeled Negative as Hexactinellida\n",
      "labeled Negative as Hexactinellida\n",
      "labeled Negative as Hexactinellida\n",
      "labeled Negative as Hexactinellida\n",
      "labeled Negative as Hexactinellida\n",
      "labeled Negative as Hexactinellida\n",
      "labeled Negative as Hexactinellida\n",
      "labeled Negative as Hexactinellida\n",
      "labeled Negative as Hexactinellida\n",
      "labeled Negative as Hexactinellida\n",
      "labeled Negative as Hexactinellida\n",
      "labeled Negative as Hexactinellida\n",
      "labeled Negative as Hexactinellida\n",
      "labeled Negative as Hexactinellida\n",
      "labeled Negative as Hexactinellida\n",
      "labeled Negative as Hexactinellida\n",
      "labeled Negative as Hexactinellida\n",
      "labeled Negative as Hexactinellida\n",
      "labeled Negative as Hexactinellida\n",
      "labeled Negative as Hexactinellida\n",
      "labeled Negative as Hexactinellida\n",
      "labeled Negative as Hexactinellida\n",
      "labeled Negative as Hexactinellida\n",
      "labeled Negative as Hexactinellida\n",
      "labeled Negative as Hexactinellida\n",
      "labeled Negative as Hexactinellida\n",
      "labeled Negative as Hexactinellida\n",
      "labeled Negative as Hexactinellida\n",
      "labeled Negative as Hexactinellida\n",
      "labeled Negative as Hexactinellida\n",
      "labeled Negative as Hexactinellida\n",
      "labeled Negative as Hexactinellida\n",
      "labeled Negative as Hexactinellida\n",
      "labeled Negative as Hexactinellida\n",
      "labeled Negative as Hexactinellida\n",
      "labeled Negative as Hexactinellida\n",
      "labeled Negative as Hexactinellida\n",
      "labeled Negative as Hexactinellida\n",
      "labeled Negative as Hexactinellida\n",
      "labeled Negative as Hexactinellida\n",
      "labeled Negative as Hexactinellida\n",
      "labeled Negative as Hexactinellida\n",
      "labeled Negative as Hexactinellida\n",
      "labeled Negative as Hexactinellida\n",
      "labeled Negative as Hexactinellida\n",
      "labeled Negative as Hexactinellida\n",
      "labeled Negative as Hexactinellida\n",
      "labeled Negative as Hexactinellida\n",
      "labeled Negative as Hexactinellida\n",
      "labeled Negative as Hexactinellida\n",
      "labeled Negative as Hexactinellida\n",
      "labeled Negative as Hexactinellida\n",
      "labeled Negative as Hexactinellida\n",
      "labeled Negative as Hexactinellida\n",
      "labeled Negative as Hexactinellida\n",
      "labeled Negative as Hexactinellida\n",
      "labeled Negative as Hexactinellida\n",
      "labeled Negative as Hexactinellida\n",
      "labeled Negative as Hexactinellida\n",
      "labeled Negative as Hexactinellida\n",
      "labeled Negative as Hexactinellida\n",
      "labeled Negative as Hexactinellida\n",
      "labeled Negative as Hexactinellida\n",
      "labeled Negative as Hexactinellida\n",
      "labeled Negative as Hexactinellida\n",
      "labeled Negative as Hexactinellida\n",
      "labeled Negative as Hexactinellida\n",
      "labeled Negative as Hexactinellida\n",
      "labeled Negative as Hexactinellida\n",
      "labeled Negative as Hexactinellida\n",
      "labeled Negative as Hexactinellida\n",
      "labeled Negative as Hexactinellida\n",
      "labeled Negative as Hexactinellida\n",
      "labeled Negative as Hexactinellida\n",
      "labeled Negative as Hexactinellida\n",
      "labeled Negative as Hexactinellida\n",
      "labeled Negative as Hexactinellida\n",
      "labeled Negative as Hexactinellida\n",
      "labeled Negative as Hexactinellida\n",
      "labeled Negative as Hexactinellida\n",
      "labeled Negative as Hexactinellida\n",
      "labeled Negative as Hexactinellida\n",
      "labeled Negative as Hexactinellida\n",
      "labeled Negative as Hexactinellida\n",
      "labeled Negative as Hexactinellida\n",
      "labeled Negative as Hexactinellida\n",
      "labeled Demospongiae as Hexactinellida\n",
      "labeled Negative as Hexactinellida\n",
      "labeled Negative as Hexactinellida\n",
      "labeled Negative as Hexactinellida\n",
      "labeled Negative as Hexactinellida\n",
      "labeled Negative as Hexactinellida\n",
      "labeled Negative as Hexactinellida\n",
      "labeled Negative as Hexactinellida\n",
      "labeled Negative as Hexactinellida\n",
      "labeled Negative as Hexactinellida\n",
      "labeled Negative as Hexactinellida\n",
      "labeled Negative as Hexactinellida\n",
      "labeled Negative as Hexactinellida\n",
      "labeled Negative as Hexactinellida\n",
      "labeled Negative as Hexactinellida\n",
      "labeled Negative as Hexactinellida\n",
      "labeled Negative as Hexactinellida\n",
      "labeled Negative as Hexactinellida\n",
      "labeled Negative as Hexactinellida\n",
      "labeled Negative as Hexactinellida\n",
      "labeled Negative as Hexactinellida\n",
      "labeled Negative as Hexactinellida\n",
      "labeled Negative as Hexactinellida\n",
      "labeled Negative as Hexactinellida\n",
      "labeled Negative as Hexactinellida\n",
      "labeled Negative as Hexactinellida\n",
      "labeled Negative as Hexactinellida\n",
      "labeled Negative as Hexactinellida\n",
      "labeled Negative as Hexactinellida\n",
      "labeled Negative as Hexactinellida\n",
      "labeled Negative as Hexactinellida\n",
      "labeled Negative as Hexactinellida\n",
      "labeled Negative as Hexactinellida\n",
      "labeled Negative as Hexactinellida\n",
      "labeled Negative as Hexactinellida\n",
      "labeled Negative as Hexactinellida\n",
      "labeled Negative as Hexactinellida\n",
      "labeled Negative as Hexactinellida\n",
      "labeled Negative as Hexactinellida\n",
      "labeled Negative as Hexactinellida\n",
      "labeled Negative as Hexactinellida\n",
      "labeled Negative as Hexactinellida\n",
      "labeled Negative as Hexactinellida\n",
      "labeled Negative as Hexactinellida\n",
      "labeled Negative as Hexactinellida\n",
      "labeled Negative as Hexactinellida\n",
      "labeled Negative as Hexactinellida\n",
      "labeled Negative as Hexactinellida\n",
      "labeled Negative as Hexactinellida\n",
      "labeled Negative as Hexactinellida\n",
      "labeled Negative as Hexactinellida\n",
      "labeled Negative as Hexactinellida\n",
      "labeled Negative as Hexactinellida\n",
      "labeled Negative as Hexactinellida\n",
      "labeled Negative as Hexactinellida\n",
      "labeled Negative as Hexactinellida\n",
      "labeled Negative as Hexactinellida\n",
      "labeled Negative as Hexactinellida\n",
      "labeled Negative as Hexactinellida\n",
      "labeled Negative as Hexactinellida\n",
      "labeled Negative as Hexactinellida\n",
      "labeled Negative as Hexactinellida\n",
      "labeled Negative as Hexactinellida\n",
      "labeled Negative as Hexactinellida\n",
      "labeled Negative as Hexactinellida\n",
      "labeled Negative as Hexactinellida\n",
      "labeled Negative as Hexactinellida\n",
      "labeled Negative as Hexactinellida\n",
      "labeled Negative as Hexactinellida\n",
      "labeled Negative as Hexactinellida\n",
      "labeled Negative as Hexactinellida\n",
      "labeled Negative as Hexactinellida\n",
      "labeled Negative as Hexactinellida\n",
      "labeled Negative as Hexactinellida\n",
      "labeled Negative as Hexactinellida\n",
      "labeled Negative as Hexactinellida\n",
      "labeled Negative as Hexactinellida\n",
      "labeled Negative as Hexactinellida\n",
      "labeled Negative as Hexactinellida\n",
      "labeled Negative as Hexactinellida\n",
      "labeled Negative as Hexactinellida\n",
      "labeled Negative as Hexactinellida\n",
      "labeled Negative as Hexactinellida\n",
      "labeled Negative as Hexactinellida\n",
      "labeled Negative as Hexactinellida\n",
      "labeled Negative as Hexactinellida\n",
      "labeled Negative as Hexactinellida\n",
      "labeled Negative as Hexactinellida\n",
      "labeled Negative as Hexactinellida\n",
      "labeled Negative as Hexactinellida\n",
      "labeled Demospongiae as Hexactinellida\n",
      "labeled Negative as Hexactinellida\n",
      "labeled Negative as Hexactinellida\n",
      "labeled Negative as Hexactinellida\n",
      "labeled Negative as Hexactinellida\n",
      "labeled Demospongiae as Hexactinellida\n",
      "labeled Demospongiae as Hexactinellida\n",
      "labeled Negative as Hexactinellida\n",
      "labeled Negative as Hexactinellida\n",
      "labeled Negative as Hexactinellida\n",
      "labeled Negative as Hexactinellida\n",
      "labeled Negative as Hexactinellida\n",
      "labeled Negative as Hexactinellida\n",
      "labeled Negative as Hexactinellida\n",
      "labeled Negative as Hexactinellida\n",
      "labeled Negative as Hexactinellida\n",
      "labeled Negative as Hexactinellida\n",
      "labeled Negative as Hexactinellida\n",
      "labeled Negative as Hexactinellida\n",
      "labeled Negative as Hexactinellida\n",
      "labeled Negative as Hexactinellida\n",
      "labeled Negative as Hexactinellida\n",
      "labeled Negative as Hexactinellida\n",
      "labeled Negative as Hexactinellida\n",
      "labeled Negative as Hexactinellida\n",
      "labeled Negative as Hexactinellida\n",
      "labeled Negative as Hexactinellida\n",
      "labeled Negative as Hexactinellida\n",
      "labeled Negative as Hexactinellida\n",
      "labeled Negative as Hexactinellida\n",
      "labeled Negative as Hexactinellida\n",
      "labeled Negative as Hexactinellida\n",
      "labeled Negative as Hexactinellida\n",
      "labeled Negative as Hexactinellida\n",
      "labeled Negative as Hexactinellida\n",
      "labeled Negative as Hexactinellida\n",
      "labeled Negative as Hexactinellida\n",
      "labeled Negative as Hexactinellida\n",
      "labeled Negative as Hexactinellida\n",
      "labeled Negative as Hexactinellida\n",
      "labeled Negative as Hexactinellida\n",
      "labeled Negative as Hexactinellida\n",
      "labeled Negative as Hexactinellida\n",
      "labeled Negative as Hexactinellida\n",
      "labeled Negative as Hexactinellida\n",
      "labeled Negative as Hexactinellida\n",
      "labeled Negative as Hexactinellida\n",
      "labeled Negative as Hexactinellida\n",
      "labeled Negative as Hexactinellida\n",
      "labeled Negative as Hexactinellida\n",
      "labeled Negative as Hexactinellida\n",
      "labeled Negative as Hexactinellida\n",
      "labeled Negative as Hexactinellida\n",
      "labeled Negative as Hexactinellida\n",
      "labeled Negative as Hexactinellida\n",
      "labeled Negative as Hexactinellida\n",
      "labeled Negative as Hexactinellida\n",
      "labeled Negative as Hexactinellida\n",
      "labeled Negative as Hexactinellida\n",
      "labeled Negative as Hexactinellida\n",
      "labeled Negative as Hexactinellida\n",
      "labeled Negative as Hexactinellida\n",
      "labeled Negative as Hexactinellida\n",
      "labeled Negative as Hexactinellida\n",
      "labeled Negative as Hexactinellida\n",
      "labeled Negative as Hexactinellida\n",
      "labeled Negative as Hexactinellida\n",
      "labeled Negative as Hexactinellida\n",
      "labeled Negative as Hexactinellida\n",
      "labeled Negative as Hexactinellida\n",
      "labeled Negative as Hexactinellida\n",
      "labeled Negative as Hexactinellida\n",
      "labeled Negative as Hexactinellida\n",
      "labeled Negative as Hexactinellida\n",
      "labeled Negative as Hexactinellida\n",
      "labeled Negative as Hexactinellida\n",
      "labeled Negative as Hexactinellida\n",
      "labeled Negative as Hexactinellida\n",
      "labeled Negative as Hexactinellida\n",
      "labeled Negative as Hexactinellida\n",
      "labeled Negative as Hexactinellida\n",
      "labeled Negative as Hexactinellida\n",
      "labeled Negative as Hexactinellida\n",
      "labeled Negative as Hexactinellida\n",
      "labeled Negative as Hexactinellida\n",
      "labeled Negative as Hexactinellida\n",
      "labeled Negative as Hexactinellida\n",
      "labeled Negative as Hexactinellida\n",
      "labeled Negative as Hexactinellida\n",
      "labeled Negative as Hexactinellida\n",
      "labeled Negative as Hexactinellida\n",
      "labeled Negative as Hexactinellida\n",
      "labeled Negative as Hexactinellida\n",
      "labeled Negative as Hexactinellida\n",
      "labeled Negative as Hexactinellida\n",
      "labeled Negative as Hexactinellida\n",
      "labeled Negative as Hexactinellida\n",
      "labeled Negative as Hexactinellida\n",
      "labeled Negative as Hexactinellida\n",
      "labeled Negative as Hexactinellida\n",
      "labeled Negative as Hexactinellida\n",
      "labeled Negative as Hexactinellida\n",
      "labeled Negative as Hexactinellida\n",
      "labeled Negative as Hexactinellida\n",
      "labeled Negative as Hexactinellida\n",
      "labeled Negative as Hexactinellida\n",
      "labeled Negative as Hexactinellida\n",
      "labeled Negative as Hexactinellida\n",
      "labeled Negative as Hexactinellida\n",
      "labeled Negative as Hexactinellida\n",
      "labeled Negative as Hexactinellida\n",
      "labeled Negative as Hexactinellida\n",
      "labeled Negative as Hexactinellida\n",
      "labeled Negative as Hexactinellida\n",
      "labeled Negative as Hexactinellida\n",
      "labeled Negative as Hexactinellida\n",
      "labeled Negative as Hexactinellida\n",
      "labeled Negative as Hexactinellida\n",
      "labeled Negative as Hexactinellida\n",
      "labeled Negative as Hexactinellida\n",
      "labeled Negative as Hexactinellida\n",
      "labeled Negative as Hexactinellida\n",
      "labeled Negative as Hexactinellida\n",
      "labeled Negative as Hexactinellida\n",
      "labeled Negative as Hexactinellida\n",
      "labeled Negative as Hexactinellida\n",
      "labeled Negative as Hexactinellida\n",
      "labeled Negative as Hexactinellida\n",
      "labeled Negative as Hexactinellida\n",
      "labeled Negative as Hexactinellida\n",
      "labeled Negative as Hexactinellida\n",
      "labeled Negative as Hexactinellida\n",
      "labeled Negative as Hexactinellida\n",
      "labeled Negative as Hexactinellida\n",
      "labeled Negative as Hexactinellida\n",
      "labeled Negative as Hexactinellida\n",
      "labeled Negative as Hexactinellida\n",
      "labeled Negative as Hexactinellida\n",
      "labeled Negative as Hexactinellida\n",
      "labeled Negative as Hexactinellida\n",
      "labeled Negative as Hexactinellida\n",
      "labeled Negative as Hexactinellida\n",
      "labeled Negative as Hexactinellida\n",
      "labeled Negative as Hexactinellida\n",
      "labeled Negative as Hexactinellida\n",
      "labeled Negative as Hexactinellida\n",
      "labeled Negative as Hexactinellida\n",
      "labeled Negative as Hexactinellida\n",
      "labeled Negative as Hexactinellida\n",
      "labeled Negative as Hexactinellida\n",
      "labeled Negative as Hexactinellida\n",
      "labeled Negative as Hexactinellida\n",
      "labeled Negative as Hexactinellida\n",
      "labeled Negative as Hexactinellida\n",
      "labeled Negative as Hexactinellida\n",
      "labeled Negative as Hexactinellida\n",
      "labeled Negative as Hexactinellida\n",
      "labeled Negative as Hexactinellida\n",
      "labeled Negative as Hexactinellida\n",
      "labeled Negative as Hexactinellida\n",
      "labeled Negative as Hexactinellida\n",
      "labeled Negative as Hexactinellida\n",
      "labeled Negative as Hexactinellida\n",
      "labeled Negative as Hexactinellida\n",
      "labeled Negative as Hexactinellida\n",
      "labeled Negative as Hexactinellida\n",
      "labeled Negative as Hexactinellida\n",
      "labeled Negative as Hexactinellida\n",
      "labeled Negative as Hexactinellida\n",
      "labeled Negative as Hexactinellida\n",
      "labeled Negative as Hexactinellida\n",
      "labeled Negative as Hexactinellida\n",
      "labeled Negative as Hexactinellida\n",
      "labeled Negative as Hexactinellida\n",
      "labeled Negative as Hexactinellida\n",
      "labeled Negative as Hexactinellida\n",
      "Accuracy: 1.01%\n"
     ]
    }
   ],
   "source": [
    "score_model(\"NASNetMobile_S4\") #1.34%"
   ]
  },
  {
   "cell_type": "code",
   "execution_count": 44,
   "id": "a2bb3ef0-d1c0-4260-9aab-327a3c1cae26",
   "metadata": {
    "collapsed": true,
    "jupyter": {
     "outputs_hidden": true
    },
    "tags": []
   },
   "outputs": [
    {
     "name": "stdout",
     "output_type": "stream",
     "text": [
      "WARNING:tensorflow:Importing a function (__inference_block5c_expand_activation_layer_call_and_return_conditional_losses_433557) with ops with custom gradients. Will likely fail if a gradient is requested.\n",
      "WARNING:tensorflow:Importing a function (__inference_block6a_expand_activation_layer_call_and_return_conditional_losses_406750) with ops with custom gradients. Will likely fail if a gradient is requested.\n",
      "WARNING:tensorflow:Importing a function (__inference_block6c_activation_layer_call_and_return_conditional_losses_435348) with ops with custom gradients. Will likely fail if a gradient is requested.\n",
      "WARNING:tensorflow:Importing a function (__inference_block2a_activation_layer_call_and_return_conditional_losses_402594) with ops with custom gradients. Will likely fail if a gradient is requested.\n",
      "WARNING:tensorflow:Importing a function (__inference_block3a_se_reduce_layer_call_and_return_conditional_losses_403481) with ops with custom gradients. Will likely fail if a gradient is requested.\n",
      "WARNING:tensorflow:Importing a function (__inference_block4b_expand_activation_layer_call_and_return_conditional_losses_431344) with ops with custom gradients. Will likely fail if a gradient is requested.\n",
      "WARNING:tensorflow:Importing a function (__inference_block2a_expand_activation_layer_call_and_return_conditional_losses_402499) with ops with custom gradients. Will likely fail if a gradient is requested.\n",
      "WARNING:tensorflow:Importing a function (__inference_block6b_se_reduce_layer_call_and_return_conditional_losses_434823) with ops with custom gradients. Will likely fail if a gradient is requested.\n",
      "WARNING:tensorflow:Importing a function (__inference_block5a_se_reduce_layer_call_and_return_conditional_losses_405606) with ops with custom gradients. Will likely fail if a gradient is requested.\n",
      "WARNING:tensorflow:Importing a function (__inference_block6d_expand_activation_layer_call_and_return_conditional_losses_408036) with ops with custom gradients. Will likely fail if a gradient is requested.\n",
      "WARNING:tensorflow:Importing a function (__inference_block5a_expand_activation_layer_call_and_return_conditional_losses_405465) with ops with custom gradients. Will likely fail if a gradient is requested.\n",
      "WARNING:tensorflow:Importing a function (__inference_block5b_activation_layer_call_and_return_conditional_losses_405952) with ops with custom gradients. Will likely fail if a gradient is requested.\n",
      "WARNING:tensorflow:Importing a function (__inference_sequential_6_layer_call_and_return_conditional_losses_420333) with ops with custom gradients. Will likely fail if a gradient is requested.\n",
      "WARNING:tensorflow:Importing a function (__inference_sequential_6_layer_call_and_return_conditional_losses_420333) with ops with custom gradients. Will likely fail if a gradient is requested.\n",
      "WARNING:tensorflow:Importing a function (__inference_sequential_6_layer_call_and_return_conditional_losses_420333) with ops with custom gradients. Will likely fail if a gradient is requested.\n",
      "WARNING:tensorflow:Importing a function (__inference_sequential_6_layer_call_and_return_conditional_losses_420333) with ops with custom gradients. Will likely fail if a gradient is requested.\n",
      "WARNING:tensorflow:Importing a function (__inference_sequential_6_layer_call_and_return_conditional_losses_420333) with ops with custom gradients. Will likely fail if a gradient is requested.\n",
      "WARNING:tensorflow:Importing a function (__inference_sequential_6_layer_call_and_return_conditional_losses_420333) with ops with custom gradients. Will likely fail if a gradient is requested.\n",
      "WARNING:tensorflow:Importing a function (__inference_sequential_6_layer_call_and_return_conditional_losses_420333) with ops with custom gradients. Will likely fail if a gradient is requested.\n",
      "WARNING:tensorflow:Importing a function (__inference_sequential_6_layer_call_and_return_conditional_losses_420333) with ops with custom gradients. Will likely fail if a gradient is requested.\n",
      "WARNING:tensorflow:Importing a function (__inference_sequential_6_layer_call_and_return_conditional_losses_420333) with ops with custom gradients. Will likely fail if a gradient is requested.\n",
      "WARNING:tensorflow:Importing a function (__inference_sequential_6_layer_call_and_return_conditional_losses_420333) with ops with custom gradients. Will likely fail if a gradient is requested.\n",
      "WARNING:tensorflow:Importing a function (__inference_sequential_6_layer_call_and_return_conditional_losses_420333) with ops with custom gradients. Will likely fail if a gradient is requested.\n",
      "WARNING:tensorflow:Importing a function (__inference_sequential_6_layer_call_and_return_conditional_losses_420333) with ops with custom gradients. Will likely fail if a gradient is requested.\n",
      "WARNING:tensorflow:Importing a function (__inference_sequential_6_layer_call_and_return_conditional_losses_420333) with ops with custom gradients. Will likely fail if a gradient is requested.\n",
      "WARNING:tensorflow:Importing a function (__inference_sequential_6_layer_call_and_return_conditional_losses_420333) with ops with custom gradients. Will likely fail if a gradient is requested.\n",
      "WARNING:tensorflow:Importing a function (__inference_sequential_6_layer_call_and_return_conditional_losses_420333) with ops with custom gradients. Will likely fail if a gradient is requested.\n",
      "WARNING:tensorflow:Importing a function (__inference_sequential_6_layer_call_and_return_conditional_losses_420333) with ops with custom gradients. Will likely fail if a gradient is requested.\n",
      "WARNING:tensorflow:Importing a function (__inference_sequential_6_layer_call_and_return_conditional_losses_420333) with ops with custom gradients. Will likely fail if a gradient is requested.\n",
      "WARNING:tensorflow:Importing a function (__inference_sequential_6_layer_call_and_return_conditional_losses_420333) with ops with custom gradients. Will likely fail if a gradient is requested.\n",
      "WARNING:tensorflow:Importing a function (__inference_sequential_6_layer_call_and_return_conditional_losses_420333) with ops with custom gradients. Will likely fail if a gradient is requested.\n",
      "WARNING:tensorflow:Importing a function (__inference_sequential_6_layer_call_and_return_conditional_losses_420333) with ops with custom gradients. Will likely fail if a gradient is requested.\n",
      "WARNING:tensorflow:Importing a function (__inference_sequential_6_layer_call_and_return_conditional_losses_420333) with ops with custom gradients. Will likely fail if a gradient is requested.\n",
      "WARNING:tensorflow:Importing a function (__inference_sequential_6_layer_call_and_return_conditional_losses_420333) with ops with custom gradients. Will likely fail if a gradient is requested.\n",
      "WARNING:tensorflow:Importing a function (__inference_sequential_6_layer_call_and_return_conditional_losses_420333) with ops with custom gradients. Will likely fail if a gradient is requested.\n",
      "WARNING:tensorflow:Importing a function (__inference_sequential_6_layer_call_and_return_conditional_losses_420333) with ops with custom gradients. Will likely fail if a gradient is requested.\n",
      "WARNING:tensorflow:Importing a function (__inference_sequential_6_layer_call_and_return_conditional_losses_420333) with ops with custom gradients. Will likely fail if a gradient is requested.\n",
      "WARNING:tensorflow:Importing a function (__inference_sequential_6_layer_call_and_return_conditional_losses_420333) with ops with custom gradients. Will likely fail if a gradient is requested.\n",
      "WARNING:tensorflow:Importing a function (__inference_sequential_6_layer_call_and_return_conditional_losses_420333) with ops with custom gradients. Will likely fail if a gradient is requested.\n",
      "WARNING:tensorflow:Importing a function (__inference_sequential_6_layer_call_and_return_conditional_losses_420333) with ops with custom gradients. Will likely fail if a gradient is requested.\n",
      "WARNING:tensorflow:Importing a function (__inference_sequential_6_layer_call_and_return_conditional_losses_420333) with ops with custom gradients. Will likely fail if a gradient is requested.\n",
      "WARNING:tensorflow:Importing a function (__inference_sequential_6_layer_call_and_return_conditional_losses_420333) with ops with custom gradients. Will likely fail if a gradient is requested.\n",
      "WARNING:tensorflow:Importing a function (__inference_sequential_6_layer_call_and_return_conditional_losses_420333) with ops with custom gradients. Will likely fail if a gradient is requested.\n",
      "WARNING:tensorflow:Importing a function (__inference_sequential_6_layer_call_and_return_conditional_losses_420333) with ops with custom gradients. Will likely fail if a gradient is requested.\n",
      "WARNING:tensorflow:Importing a function (__inference_sequential_6_layer_call_and_return_conditional_losses_420333) with ops with custom gradients. Will likely fail if a gradient is requested.\n",
      "WARNING:tensorflow:Importing a function (__inference_sequential_6_layer_call_and_return_conditional_losses_420333) with ops with custom gradients. Will likely fail if a gradient is requested.\n",
      "WARNING:tensorflow:Importing a function (__inference_sequential_6_layer_call_and_return_conditional_losses_420333) with ops with custom gradients. Will likely fail if a gradient is requested.\n",
      "WARNING:tensorflow:Importing a function (__inference_sequential_6_layer_call_and_return_conditional_losses_420333) with ops with custom gradients. Will likely fail if a gradient is requested.\n",
      "WARNING:tensorflow:Importing a function (__inference_sequential_6_layer_call_and_return_conditional_losses_420333) with ops with custom gradients. Will likely fail if a gradient is requested.\n",
      "WARNING:tensorflow:Importing a function (__inference_sequential_6_layer_call_and_return_conditional_losses_420333) with ops with custom gradients. Will likely fail if a gradient is requested.\n",
      "WARNING:tensorflow:Importing a function (__inference_sequential_6_layer_call_and_return_conditional_losses_420333) with ops with custom gradients. Will likely fail if a gradient is requested.\n",
      "WARNING:tensorflow:Importing a function (__inference_sequential_6_layer_call_and_return_conditional_losses_420333) with ops with custom gradients. Will likely fail if a gradient is requested.\n",
      "WARNING:tensorflow:Importing a function (__inference_sequential_6_layer_call_and_return_conditional_losses_420333) with ops with custom gradients. Will likely fail if a gradient is requested.\n",
      "WARNING:tensorflow:Importing a function (__inference_sequential_6_layer_call_and_return_conditional_losses_420333) with ops with custom gradients. Will likely fail if a gradient is requested.\n",
      "WARNING:tensorflow:Importing a function (__inference_sequential_6_layer_call_and_return_conditional_losses_420333) with ops with custom gradients. Will likely fail if a gradient is requested.\n",
      "WARNING:tensorflow:Importing a function (__inference_sequential_6_layer_call_and_return_conditional_losses_420333) with ops with custom gradients. Will likely fail if a gradient is requested.\n",
      "WARNING:tensorflow:Importing a function (__inference_sequential_6_layer_call_and_return_conditional_losses_420333) with ops with custom gradients. Will likely fail if a gradient is requested.\n",
      "WARNING:tensorflow:Importing a function (__inference_sequential_6_layer_call_and_return_conditional_losses_420333) with ops with custom gradients. Will likely fail if a gradient is requested.\n",
      "WARNING:tensorflow:Importing a function (__inference_sequential_6_layer_call_and_return_conditional_losses_420333) with ops with custom gradients. Will likely fail if a gradient is requested.\n",
      "WARNING:tensorflow:Importing a function (__inference_sequential_6_layer_call_and_return_conditional_losses_420333) with ops with custom gradients. Will likely fail if a gradient is requested.\n",
      "WARNING:tensorflow:Importing a function (__inference_sequential_6_layer_call_and_return_conditional_losses_420333) with ops with custom gradients. Will likely fail if a gradient is requested.\n",
      "WARNING:tensorflow:Importing a function (__inference_block5b_activation_layer_call_and_return_conditional_losses_433135) with ops with custom gradients. Will likely fail if a gradient is requested.\n",
      "WARNING:tensorflow:Importing a function (__inference_block3b_expand_activation_layer_call_and_return_conditional_losses_403733) with ops with custom gradients. Will likely fail if a gradient is requested.\n",
      "WARNING:tensorflow:Importing a function (__inference_block6c_se_reduce_layer_call_and_return_conditional_losses_407731) with ops with custom gradients. Will likely fail if a gradient is requested.\n",
      "WARNING:tensorflow:Importing a function (__inference_block3b_se_reduce_layer_call_and_return_conditional_losses_430444) with ops with custom gradients. Will likely fail if a gradient is requested.\n",
      "WARNING:tensorflow:Importing a function (__inference_block6d_se_reduce_layer_call_and_return_conditional_losses_435953) with ops with custom gradients. Will likely fail if a gradient is requested.\n",
      "WARNING:tensorflow:Importing a function (__inference_block6c_expand_activation_layer_call_and_return_conditional_losses_435205) with ops with custom gradients. Will likely fail if a gradient is requested.\n",
      "WARNING:tensorflow:Importing a function (__inference_block2b_expand_activation_layer_call_and_return_conditional_losses_402893) with ops with custom gradients. Will likely fail if a gradient is requested.\n",
      "WARNING:tensorflow:Importing a function (__inference_block4c_se_reduce_layer_call_and_return_conditional_losses_432092) with ops with custom gradients. Will likely fail if a gradient is requested.\n",
      "WARNING:tensorflow:Importing a function (__inference_block3b_expand_activation_layer_call_and_return_conditional_losses_430261) with ops with custom gradients. Will likely fail if a gradient is requested.\n",
      "WARNING:tensorflow:Importing a function (__inference_block4b_activation_layer_call_and_return_conditional_losses_431487) with ops with custom gradients. Will likely fail if a gradient is requested.\n",
      "WARNING:tensorflow:Importing a function (__inference_block4a_se_reduce_layer_call_and_return_conditional_losses_404321) with ops with custom gradients. Will likely fail if a gradient is requested.\n",
      "WARNING:tensorflow:Importing a function (__inference_block6c_se_reduce_layer_call_and_return_conditional_losses_435388) with ops with custom gradients. Will likely fail if a gradient is requested.\n",
      "WARNING:tensorflow:Importing a function (__inference_block6d_activation_layer_call_and_return_conditional_losses_408130) with ops with custom gradients. Will likely fail if a gradient is requested.\n",
      "WARNING:tensorflow:Importing a function (__inference_block3a_activation_layer_call_and_return_conditional_losses_429886) with ops with custom gradients. Will likely fail if a gradient is requested.\n",
      "WARNING:tensorflow:Importing a function (__inference_block4b_expand_activation_layer_call_and_return_conditional_losses_404573) with ops with custom gradients. Will likely fail if a gradient is requested.\n",
      "WARNING:tensorflow:Importing a function (__inference_block6b_activation_layer_call_and_return_conditional_losses_407238) with ops with custom gradients. Will likely fail if a gradient is requested.\n",
      "WARNING:tensorflow:Importing a function (__inference_block2a_activation_layer_call_and_return_conditional_losses_428803) with ops with custom gradients. Will likely fail if a gradient is requested.\n",
      "WARNING:tensorflow:Importing a function (__inference_block2a_se_reduce_layer_call_and_return_conditional_losses_428843) with ops with custom gradients. Will likely fail if a gradient is requested.\n",
      "WARNING:tensorflow:Importing a function (__inference_block7a_se_reduce_layer_call_and_return_conditional_losses_408623) with ops with custom gradients. Will likely fail if a gradient is requested.\n",
      "WARNING:tensorflow:Importing a function (__inference_block5c_se_reduce_layer_call_and_return_conditional_losses_433740) with ops with custom gradients. Will likely fail if a gradient is requested.\n",
      "WARNING:tensorflow:Importing a function (__inference_block5c_activation_layer_call_and_return_conditional_losses_406398) with ops with custom gradients. Will likely fail if a gradient is requested.\n",
      "WARNING:tensorflow:Importing a function (__inference_block7a_activation_layer_call_and_return_conditional_losses_408576) with ops with custom gradients. Will likely fail if a gradient is requested.\n",
      "WARNING:tensorflow:Importing a function (__inference_block7a_activation_layer_call_and_return_conditional_losses_436478) with ops with custom gradients. Will likely fail if a gradient is requested.\n",
      "WARNING:tensorflow:Importing a function (__inference_block5b_se_reduce_layer_call_and_return_conditional_losses_405999) with ops with custom gradients. Will likely fail if a gradient is requested.\n",
      "WARNING:tensorflow:Importing a function (__inference_block2b_se_reduce_layer_call_and_return_conditional_losses_429361) with ops with custom gradients. Will likely fail if a gradient is requested.\n",
      "WARNING:tensorflow:Importing a function (__inference_block2b_activation_layer_call_and_return_conditional_losses_429321) with ops with custom gradients. Will likely fail if a gradient is requested.\n",
      "WARNING:tensorflow:Importing a function (__inference_block5a_expand_activation_layer_call_and_return_conditional_losses_432474) with ops with custom gradients. Will likely fail if a gradient is requested.\n",
      "WARNING:tensorflow:Importing a function (__inference__wrapped_model_396315) with ops with custom gradients. Will likely fail if a gradient is requested.\n",
      "WARNING:tensorflow:Importing a function (__inference__wrapped_model_396315) with ops with custom gradients. Will likely fail if a gradient is requested.\n",
      "WARNING:tensorflow:Importing a function (__inference__wrapped_model_396315) with ops with custom gradients. Will likely fail if a gradient is requested.\n",
      "WARNING:tensorflow:Importing a function (__inference__wrapped_model_396315) with ops with custom gradients. Will likely fail if a gradient is requested.\n",
      "WARNING:tensorflow:Importing a function (__inference__wrapped_model_396315) with ops with custom gradients. Will likely fail if a gradient is requested.\n",
      "WARNING:tensorflow:Importing a function (__inference__wrapped_model_396315) with ops with custom gradients. Will likely fail if a gradient is requested.\n",
      "WARNING:tensorflow:Importing a function (__inference__wrapped_model_396315) with ops with custom gradients. Will likely fail if a gradient is requested.\n",
      "WARNING:tensorflow:Importing a function (__inference__wrapped_model_396315) with ops with custom gradients. Will likely fail if a gradient is requested.\n",
      "WARNING:tensorflow:Importing a function (__inference__wrapped_model_396315) with ops with custom gradients. Will likely fail if a gradient is requested.\n",
      "WARNING:tensorflow:Importing a function (__inference__wrapped_model_396315) with ops with custom gradients. Will likely fail if a gradient is requested.\n",
      "WARNING:tensorflow:Importing a function (__inference__wrapped_model_396315) with ops with custom gradients. Will likely fail if a gradient is requested.\n",
      "WARNING:tensorflow:Importing a function (__inference__wrapped_model_396315) with ops with custom gradients. Will likely fail if a gradient is requested.\n",
      "WARNING:tensorflow:Importing a function (__inference__wrapped_model_396315) with ops with custom gradients. Will likely fail if a gradient is requested.\n",
      "WARNING:tensorflow:Importing a function (__inference__wrapped_model_396315) with ops with custom gradients. Will likely fail if a gradient is requested.\n",
      "WARNING:tensorflow:Importing a function (__inference__wrapped_model_396315) with ops with custom gradients. Will likely fail if a gradient is requested.\n",
      "WARNING:tensorflow:Importing a function (__inference__wrapped_model_396315) with ops with custom gradients. Will likely fail if a gradient is requested.\n",
      "WARNING:tensorflow:Importing a function (__inference__wrapped_model_396315) with ops with custom gradients. Will likely fail if a gradient is requested.\n",
      "WARNING:tensorflow:Importing a function (__inference__wrapped_model_396315) with ops with custom gradients. Will likely fail if a gradient is requested.\n",
      "WARNING:tensorflow:Importing a function (__inference__wrapped_model_396315) with ops with custom gradients. Will likely fail if a gradient is requested.\n",
      "WARNING:tensorflow:Importing a function (__inference__wrapped_model_396315) with ops with custom gradients. Will likely fail if a gradient is requested.\n",
      "WARNING:tensorflow:Importing a function (__inference__wrapped_model_396315) with ops with custom gradients. Will likely fail if a gradient is requested.\n",
      "WARNING:tensorflow:Importing a function (__inference__wrapped_model_396315) with ops with custom gradients. Will likely fail if a gradient is requested.\n",
      "WARNING:tensorflow:Importing a function (__inference__wrapped_model_396315) with ops with custom gradients. Will likely fail if a gradient is requested.\n",
      "WARNING:tensorflow:Importing a function (__inference__wrapped_model_396315) with ops with custom gradients. Will likely fail if a gradient is requested.\n",
      "WARNING:tensorflow:Importing a function (__inference__wrapped_model_396315) with ops with custom gradients. Will likely fail if a gradient is requested.\n",
      "WARNING:tensorflow:Importing a function (__inference__wrapped_model_396315) with ops with custom gradients. Will likely fail if a gradient is requested.\n",
      "WARNING:tensorflow:Importing a function (__inference__wrapped_model_396315) with ops with custom gradients. Will likely fail if a gradient is requested.\n",
      "WARNING:tensorflow:Importing a function (__inference__wrapped_model_396315) with ops with custom gradients. Will likely fail if a gradient is requested.\n",
      "WARNING:tensorflow:Importing a function (__inference__wrapped_model_396315) with ops with custom gradients. Will likely fail if a gradient is requested.\n",
      "WARNING:tensorflow:Importing a function (__inference__wrapped_model_396315) with ops with custom gradients. Will likely fail if a gradient is requested.\n",
      "WARNING:tensorflow:Importing a function (__inference__wrapped_model_396315) with ops with custom gradients. Will likely fail if a gradient is requested.\n",
      "WARNING:tensorflow:Importing a function (__inference__wrapped_model_396315) with ops with custom gradients. Will likely fail if a gradient is requested.\n",
      "WARNING:tensorflow:Importing a function (__inference__wrapped_model_396315) with ops with custom gradients. Will likely fail if a gradient is requested.\n",
      "WARNING:tensorflow:Importing a function (__inference__wrapped_model_396315) with ops with custom gradients. Will likely fail if a gradient is requested.\n",
      "WARNING:tensorflow:Importing a function (__inference__wrapped_model_396315) with ops with custom gradients. Will likely fail if a gradient is requested.\n",
      "WARNING:tensorflow:Importing a function (__inference__wrapped_model_396315) with ops with custom gradients. Will likely fail if a gradient is requested.\n",
      "WARNING:tensorflow:Importing a function (__inference__wrapped_model_396315) with ops with custom gradients. Will likely fail if a gradient is requested.\n",
      "WARNING:tensorflow:Importing a function (__inference__wrapped_model_396315) with ops with custom gradients. Will likely fail if a gradient is requested.\n",
      "WARNING:tensorflow:Importing a function (__inference__wrapped_model_396315) with ops with custom gradients. Will likely fail if a gradient is requested.\n",
      "WARNING:tensorflow:Importing a function (__inference__wrapped_model_396315) with ops with custom gradients. Will likely fail if a gradient is requested.\n",
      "WARNING:tensorflow:Importing a function (__inference__wrapped_model_396315) with ops with custom gradients. Will likely fail if a gradient is requested.\n",
      "WARNING:tensorflow:Importing a function (__inference__wrapped_model_396315) with ops with custom gradients. Will likely fail if a gradient is requested.\n",
      "WARNING:tensorflow:Importing a function (__inference__wrapped_model_396315) with ops with custom gradients. Will likely fail if a gradient is requested.\n",
      "WARNING:tensorflow:Importing a function (__inference__wrapped_model_396315) with ops with custom gradients. Will likely fail if a gradient is requested.\n",
      "WARNING:tensorflow:Importing a function (__inference__wrapped_model_396315) with ops with custom gradients. Will likely fail if a gradient is requested.\n",
      "WARNING:tensorflow:Importing a function (__inference__wrapped_model_396315) with ops with custom gradients. Will likely fail if a gradient is requested.\n",
      "WARNING:tensorflow:Importing a function (__inference__wrapped_model_396315) with ops with custom gradients. Will likely fail if a gradient is requested.\n",
      "WARNING:tensorflow:Importing a function (__inference__wrapped_model_396315) with ops with custom gradients. Will likely fail if a gradient is requested.\n",
      "WARNING:tensorflow:Importing a function (__inference__wrapped_model_396315) with ops with custom gradients. Will likely fail if a gradient is requested.\n",
      "WARNING:tensorflow:Importing a function (__inference_block6d_se_reduce_layer_call_and_return_conditional_losses_408177) with ops with custom gradients. Will likely fail if a gradient is requested.\n",
      "WARNING:tensorflow:Importing a function (__inference_block4c_activation_layer_call_and_return_conditional_losses_405113) with ops with custom gradients. Will likely fail if a gradient is requested.\n",
      "WARNING:tensorflow:Importing a function (__inference_block6a_expand_activation_layer_call_and_return_conditional_losses_434122) with ops with custom gradients. Will likely fail if a gradient is requested.\n",
      "WARNING:tensorflow:Importing a function (__inference_block6c_expand_activation_layer_call_and_return_conditional_losses_407590) with ops with custom gradients. Will likely fail if a gradient is requested.\n",
      "WARNING:tensorflow:Importing a function (__inference_block4a_expand_activation_layer_call_and_return_conditional_losses_404179) with ops with custom gradients. Will likely fail if a gradient is requested.\n",
      "WARNING:tensorflow:Importing a function (__inference_block7a_expand_activation_layer_call_and_return_conditional_losses_436335) with ops with custom gradients. Will likely fail if a gradient is requested.\n",
      "WARNING:tensorflow:Importing a function (__inference_block1a_se_reduce_layer_call_and_return_conditional_losses_402247) with ops with custom gradients. Will likely fail if a gradient is requested.\n",
      "WARNING:tensorflow:Importing a function (__inference_top_activation_layer_call_and_return_conditional_losses_408875) with ops with custom gradients. Will likely fail if a gradient is requested.\n",
      "WARNING:tensorflow:Importing a function (__inference_block3a_expand_activation_layer_call_and_return_conditional_losses_403339) with ops with custom gradients. Will likely fail if a gradient is requested.\n",
      "WARNING:tensorflow:Importing a function (__inference_block6b_expand_activation_layer_call_and_return_conditional_losses_434640) with ops with custom gradients. Will likely fail if a gradient is requested.\n",
      "WARNING:tensorflow:Importing a function (__inference_block1a_activation_layer_call_and_return_conditional_losses_428285) with ops with custom gradients. Will likely fail if a gradient is requested.\n",
      "WARNING:tensorflow:Importing a function (__inference_block6a_activation_layer_call_and_return_conditional_losses_434265) with ops with custom gradients. Will likely fail if a gradient is requested.\n",
      "WARNING:tensorflow:Importing a function (__inference_block6d_activation_layer_call_and_return_conditional_losses_435913) with ops with custom gradients. Will likely fail if a gradient is requested.\n",
      "WARNING:tensorflow:Importing a function (__inference_block5a_activation_layer_call_and_return_conditional_losses_405559) with ops with custom gradients. Will likely fail if a gradient is requested.\n",
      "WARNING:tensorflow:Importing a function (__inference_block4a_se_reduce_layer_call_and_return_conditional_losses_431009) with ops with custom gradients. Will likely fail if a gradient is requested.\n",
      "WARNING:tensorflow:Importing a function (__inference_block6b_se_reduce_layer_call_and_return_conditional_losses_407285) with ops with custom gradients. Will likely fail if a gradient is requested.\n",
      "WARNING:tensorflow:Importing a function (__inference_block6b_activation_layer_call_and_return_conditional_losses_434783) with ops with custom gradients. Will likely fail if a gradient is requested.\n",
      "WARNING:tensorflow:Importing a function (__inference_block5c_se_reduce_layer_call_and_return_conditional_losses_406445) with ops with custom gradients. Will likely fail if a gradient is requested.\n",
      "WARNING:tensorflow:Importing a function (__inference_block4a_expand_activation_layer_call_and_return_conditional_losses_430826) with ops with custom gradients. Will likely fail if a gradient is requested.\n",
      "WARNING:tensorflow:Importing a function (__inference_block1a_activation_layer_call_and_return_conditional_losses_402200) with ops with custom gradients. Will likely fail if a gradient is requested.\n",
      "WARNING:tensorflow:Importing a function (__inference_block6a_se_reduce_layer_call_and_return_conditional_losses_434305) with ops with custom gradients. Will likely fail if a gradient is requested.\n",
      "WARNING:tensorflow:Importing a function (__inference_stem_activation_layer_call_and_return_conditional_losses_402106) with ops with custom gradients. Will likely fail if a gradient is requested.\n",
      "WARNING:tensorflow:Importing a function (__inference_block3a_expand_activation_layer_call_and_return_conditional_losses_429743) with ops with custom gradients. Will likely fail if a gradient is requested.\n",
      "WARNING:tensorflow:Importing a function (__inference_block3b_activation_layer_call_and_return_conditional_losses_403827) with ops with custom gradients. Will likely fail if a gradient is requested.\n",
      "WARNING:tensorflow:Importing a function (__inference_block4c_expand_activation_layer_call_and_return_conditional_losses_405019) with ops with custom gradients. Will likely fail if a gradient is requested.\n",
      "WARNING:tensorflow:Importing a function (__inference_block2b_se_reduce_layer_call_and_return_conditional_losses_403034) with ops with custom gradients. Will likely fail if a gradient is requested.\n",
      "WARNING:tensorflow:Importing a function (__inference_block6a_activation_layer_call_and_return_conditional_losses_406845) with ops with custom gradients. Will likely fail if a gradient is requested.\n",
      "WARNING:tensorflow:Importing a function (__inference_block6c_activation_layer_call_and_return_conditional_losses_407684) with ops with custom gradients. Will likely fail if a gradient is requested.\n",
      "WARNING:tensorflow:Importing a function (__inference_block2b_activation_layer_call_and_return_conditional_losses_402987) with ops with custom gradients. Will likely fail if a gradient is requested.\n",
      "WARNING:tensorflow:Importing a function (__inference_block6d_expand_activation_layer_call_and_return_conditional_losses_435770) with ops with custom gradients. Will likely fail if a gradient is requested.\n",
      "WARNING:tensorflow:Importing a function (__inference_block2b_expand_activation_layer_call_and_return_conditional_losses_429178) with ops with custom gradients. Will likely fail if a gradient is requested.\n",
      "WARNING:tensorflow:Importing a function (__inference_block6a_se_reduce_layer_call_and_return_conditional_losses_406892) with ops with custom gradients. Will likely fail if a gradient is requested.\n",
      "WARNING:tensorflow:Importing a function (__inference_block2a_se_reduce_layer_call_and_return_conditional_losses_402641) with ops with custom gradients. Will likely fail if a gradient is requested.\n",
      "WARNING:tensorflow:Importing a function (__inference_top_activation_layer_call_and_return_conditional_losses_436853) with ops with custom gradients. Will likely fail if a gradient is requested.\n",
      "WARNING:tensorflow:Importing a function (__inference_block7a_expand_activation_layer_call_and_return_conditional_losses_408482) with ops with custom gradients. Will likely fail if a gradient is requested.\n",
      "WARNING:tensorflow:Importing a function (__inference_block3b_se_reduce_layer_call_and_return_conditional_losses_403874) with ops with custom gradients. Will likely fail if a gradient is requested.\n",
      "WARNING:tensorflow:Importing a function (__inference_block4a_activation_layer_call_and_return_conditional_losses_430969) with ops with custom gradients. Will likely fail if a gradient is requested.\n",
      "WARNING:tensorflow:Importing a function (__inference_block3b_activation_layer_call_and_return_conditional_losses_430404) with ops with custom gradients. Will likely fail if a gradient is requested.\n",
      "WARNING:tensorflow:Importing a function (__inference_block1a_se_reduce_layer_call_and_return_conditional_losses_428325) with ops with custom gradients. Will likely fail if a gradient is requested.\n",
      "WARNING:tensorflow:Importing a function (__inference_block3a_activation_layer_call_and_return_conditional_losses_403434) with ops with custom gradients. Will likely fail if a gradient is requested.\n",
      "WARNING:tensorflow:Importing a function (__inference_block6b_expand_activation_layer_call_and_return_conditional_losses_407144) with ops with custom gradients. Will likely fail if a gradient is requested.\n",
      "WARNING:tensorflow:Importing a function (__inference_block4b_se_reduce_layer_call_and_return_conditional_losses_404714) with ops with custom gradients. Will likely fail if a gradient is requested.\n",
      "WARNING:tensorflow:Importing a function (__inference_block4c_expand_activation_layer_call_and_return_conditional_losses_431909) with ops with custom gradients. Will likely fail if a gradient is requested.\n",
      "WARNING:tensorflow:Importing a function (__inference_block5b_expand_activation_layer_call_and_return_conditional_losses_432992) with ops with custom gradients. Will likely fail if a gradient is requested.\n",
      "WARNING:tensorflow:Importing a function (__inference_block2a_expand_activation_layer_call_and_return_conditional_losses_428660) with ops with custom gradients. Will likely fail if a gradient is requested.\n",
      "WARNING:tensorflow:Importing a function (__inference_sequential_6_layer_call_and_return_conditional_losses_421964) with ops with custom gradients. Will likely fail if a gradient is requested.\n",
      "WARNING:tensorflow:Importing a function (__inference_sequential_6_layer_call_and_return_conditional_losses_421964) with ops with custom gradients. Will likely fail if a gradient is requested.\n",
      "WARNING:tensorflow:Importing a function (__inference_sequential_6_layer_call_and_return_conditional_losses_421964) with ops with custom gradients. Will likely fail if a gradient is requested.\n",
      "WARNING:tensorflow:Importing a function (__inference_sequential_6_layer_call_and_return_conditional_losses_421964) with ops with custom gradients. Will likely fail if a gradient is requested.\n",
      "WARNING:tensorflow:Importing a function (__inference_sequential_6_layer_call_and_return_conditional_losses_421964) with ops with custom gradients. Will likely fail if a gradient is requested.\n",
      "WARNING:tensorflow:Importing a function (__inference_sequential_6_layer_call_and_return_conditional_losses_421964) with ops with custom gradients. Will likely fail if a gradient is requested.\n",
      "WARNING:tensorflow:Importing a function (__inference_sequential_6_layer_call_and_return_conditional_losses_421964) with ops with custom gradients. Will likely fail if a gradient is requested.\n",
      "WARNING:tensorflow:Importing a function (__inference_sequential_6_layer_call_and_return_conditional_losses_421964) with ops with custom gradients. Will likely fail if a gradient is requested.\n",
      "WARNING:tensorflow:Importing a function (__inference_sequential_6_layer_call_and_return_conditional_losses_421964) with ops with custom gradients. Will likely fail if a gradient is requested.\n",
      "WARNING:tensorflow:Importing a function (__inference_sequential_6_layer_call_and_return_conditional_losses_421964) with ops with custom gradients. Will likely fail if a gradient is requested.\n",
      "WARNING:tensorflow:Importing a function (__inference_sequential_6_layer_call_and_return_conditional_losses_421964) with ops with custom gradients. Will likely fail if a gradient is requested.\n",
      "WARNING:tensorflow:Importing a function (__inference_sequential_6_layer_call_and_return_conditional_losses_421964) with ops with custom gradients. Will likely fail if a gradient is requested.\n",
      "WARNING:tensorflow:Importing a function (__inference_sequential_6_layer_call_and_return_conditional_losses_421964) with ops with custom gradients. Will likely fail if a gradient is requested.\n",
      "WARNING:tensorflow:Importing a function (__inference_sequential_6_layer_call_and_return_conditional_losses_421964) with ops with custom gradients. Will likely fail if a gradient is requested.\n",
      "WARNING:tensorflow:Importing a function (__inference_sequential_6_layer_call_and_return_conditional_losses_421964) with ops with custom gradients. Will likely fail if a gradient is requested.\n",
      "WARNING:tensorflow:Importing a function (__inference_sequential_6_layer_call_and_return_conditional_losses_421964) with ops with custom gradients. Will likely fail if a gradient is requested.\n",
      "WARNING:tensorflow:Importing a function (__inference_sequential_6_layer_call_and_return_conditional_losses_421964) with ops with custom gradients. Will likely fail if a gradient is requested.\n",
      "WARNING:tensorflow:Importing a function (__inference_sequential_6_layer_call_and_return_conditional_losses_421964) with ops with custom gradients. Will likely fail if a gradient is requested.\n",
      "WARNING:tensorflow:Importing a function (__inference_sequential_6_layer_call_and_return_conditional_losses_421964) with ops with custom gradients. Will likely fail if a gradient is requested.\n",
      "WARNING:tensorflow:Importing a function (__inference_sequential_6_layer_call_and_return_conditional_losses_421964) with ops with custom gradients. Will likely fail if a gradient is requested.\n",
      "WARNING:tensorflow:Importing a function (__inference_sequential_6_layer_call_and_return_conditional_losses_421964) with ops with custom gradients. Will likely fail if a gradient is requested.\n",
      "WARNING:tensorflow:Importing a function (__inference_sequential_6_layer_call_and_return_conditional_losses_421964) with ops with custom gradients. Will likely fail if a gradient is requested.\n",
      "WARNING:tensorflow:Importing a function (__inference_sequential_6_layer_call_and_return_conditional_losses_421964) with ops with custom gradients. Will likely fail if a gradient is requested.\n",
      "WARNING:tensorflow:Importing a function (__inference_sequential_6_layer_call_and_return_conditional_losses_421964) with ops with custom gradients. Will likely fail if a gradient is requested.\n",
      "WARNING:tensorflow:Importing a function (__inference_sequential_6_layer_call_and_return_conditional_losses_421964) with ops with custom gradients. Will likely fail if a gradient is requested.\n",
      "WARNING:tensorflow:Importing a function (__inference_sequential_6_layer_call_and_return_conditional_losses_421964) with ops with custom gradients. Will likely fail if a gradient is requested.\n",
      "WARNING:tensorflow:Importing a function (__inference_sequential_6_layer_call_and_return_conditional_losses_421964) with ops with custom gradients. Will likely fail if a gradient is requested.\n",
      "WARNING:tensorflow:Importing a function (__inference_sequential_6_layer_call_and_return_conditional_losses_421964) with ops with custom gradients. Will likely fail if a gradient is requested.\n",
      "WARNING:tensorflow:Importing a function (__inference_sequential_6_layer_call_and_return_conditional_losses_421964) with ops with custom gradients. Will likely fail if a gradient is requested.\n",
      "WARNING:tensorflow:Importing a function (__inference_sequential_6_layer_call_and_return_conditional_losses_421964) with ops with custom gradients. Will likely fail if a gradient is requested.\n",
      "WARNING:tensorflow:Importing a function (__inference_sequential_6_layer_call_and_return_conditional_losses_421964) with ops with custom gradients. Will likely fail if a gradient is requested.\n",
      "WARNING:tensorflow:Importing a function (__inference_sequential_6_layer_call_and_return_conditional_losses_421964) with ops with custom gradients. Will likely fail if a gradient is requested.\n",
      "WARNING:tensorflow:Importing a function (__inference_sequential_6_layer_call_and_return_conditional_losses_421964) with ops with custom gradients. Will likely fail if a gradient is requested.\n",
      "WARNING:tensorflow:Importing a function (__inference_sequential_6_layer_call_and_return_conditional_losses_421964) with ops with custom gradients. Will likely fail if a gradient is requested.\n",
      "WARNING:tensorflow:Importing a function (__inference_sequential_6_layer_call_and_return_conditional_losses_421964) with ops with custom gradients. Will likely fail if a gradient is requested.\n",
      "WARNING:tensorflow:Importing a function (__inference_sequential_6_layer_call_and_return_conditional_losses_421964) with ops with custom gradients. Will likely fail if a gradient is requested.\n",
      "WARNING:tensorflow:Importing a function (__inference_sequential_6_layer_call_and_return_conditional_losses_421964) with ops with custom gradients. Will likely fail if a gradient is requested.\n",
      "WARNING:tensorflow:Importing a function (__inference_sequential_6_layer_call_and_return_conditional_losses_421964) with ops with custom gradients. Will likely fail if a gradient is requested.\n",
      "WARNING:tensorflow:Importing a function (__inference_sequential_6_layer_call_and_return_conditional_losses_421964) with ops with custom gradients. Will likely fail if a gradient is requested.\n",
      "WARNING:tensorflow:Importing a function (__inference_sequential_6_layer_call_and_return_conditional_losses_421964) with ops with custom gradients. Will likely fail if a gradient is requested.\n",
      "WARNING:tensorflow:Importing a function (__inference_sequential_6_layer_call_and_return_conditional_losses_421964) with ops with custom gradients. Will likely fail if a gradient is requested.\n",
      "WARNING:tensorflow:Importing a function (__inference_sequential_6_layer_call_and_return_conditional_losses_421964) with ops with custom gradients. Will likely fail if a gradient is requested.\n",
      "WARNING:tensorflow:Importing a function (__inference_sequential_6_layer_call_and_return_conditional_losses_421964) with ops with custom gradients. Will likely fail if a gradient is requested.\n",
      "WARNING:tensorflow:Importing a function (__inference_sequential_6_layer_call_and_return_conditional_losses_421964) with ops with custom gradients. Will likely fail if a gradient is requested.\n",
      "WARNING:tensorflow:Importing a function (__inference_sequential_6_layer_call_and_return_conditional_losses_421964) with ops with custom gradients. Will likely fail if a gradient is requested.\n",
      "WARNING:tensorflow:Importing a function (__inference_sequential_6_layer_call_and_return_conditional_losses_421964) with ops with custom gradients. Will likely fail if a gradient is requested.\n",
      "WARNING:tensorflow:Importing a function (__inference_sequential_6_layer_call_and_return_conditional_losses_421964) with ops with custom gradients. Will likely fail if a gradient is requested.\n",
      "WARNING:tensorflow:Importing a function (__inference_sequential_6_layer_call_and_return_conditional_losses_421964) with ops with custom gradients. Will likely fail if a gradient is requested.\n",
      "WARNING:tensorflow:Importing a function (__inference_sequential_6_layer_call_and_return_conditional_losses_421964) with ops with custom gradients. Will likely fail if a gradient is requested.\n",
      "WARNING:tensorflow:Importing a function (__inference_block5a_se_reduce_layer_call_and_return_conditional_losses_432657) with ops with custom gradients. Will likely fail if a gradient is requested.\n",
      "WARNING:tensorflow:Importing a function (__inference_block5a_activation_layer_call_and_return_conditional_losses_432617) with ops with custom gradients. Will likely fail if a gradient is requested.\n",
      "WARNING:tensorflow:Importing a function (__inference_block4b_activation_layer_call_and_return_conditional_losses_404667) with ops with custom gradients. Will likely fail if a gradient is requested.\n",
      "WARNING:tensorflow:Importing a function (__inference_block5c_activation_layer_call_and_return_conditional_losses_433700) with ops with custom gradients. Will likely fail if a gradient is requested.\n",
      "WARNING:tensorflow:Importing a function (__inference_block3a_se_reduce_layer_call_and_return_conditional_losses_429926) with ops with custom gradients. Will likely fail if a gradient is requested.\n",
      "WARNING:tensorflow:Importing a function (__inference_block5c_expand_activation_layer_call_and_return_conditional_losses_406304) with ops with custom gradients. Will likely fail if a gradient is requested.\n",
      "WARNING:tensorflow:Importing a function (__inference_efficientnetb0_layer_call_and_return_conditional_losses_426703) with ops with custom gradients. Will likely fail if a gradient is requested.\n",
      "WARNING:tensorflow:Importing a function (__inference_efficientnetb0_layer_call_and_return_conditional_losses_426703) with ops with custom gradients. Will likely fail if a gradient is requested.\n",
      "WARNING:tensorflow:Importing a function (__inference_efficientnetb0_layer_call_and_return_conditional_losses_426703) with ops with custom gradients. Will likely fail if a gradient is requested.\n",
      "WARNING:tensorflow:Importing a function (__inference_efficientnetb0_layer_call_and_return_conditional_losses_426703) with ops with custom gradients. Will likely fail if a gradient is requested.\n",
      "WARNING:tensorflow:Importing a function (__inference_efficientnetb0_layer_call_and_return_conditional_losses_426703) with ops with custom gradients. Will likely fail if a gradient is requested.\n",
      "WARNING:tensorflow:Importing a function (__inference_efficientnetb0_layer_call_and_return_conditional_losses_426703) with ops with custom gradients. Will likely fail if a gradient is requested.\n",
      "WARNING:tensorflow:Importing a function (__inference_efficientnetb0_layer_call_and_return_conditional_losses_426703) with ops with custom gradients. Will likely fail if a gradient is requested.\n",
      "WARNING:tensorflow:Importing a function (__inference_efficientnetb0_layer_call_and_return_conditional_losses_426703) with ops with custom gradients. Will likely fail if a gradient is requested.\n",
      "WARNING:tensorflow:Importing a function (__inference_efficientnetb0_layer_call_and_return_conditional_losses_426703) with ops with custom gradients. Will likely fail if a gradient is requested.\n",
      "WARNING:tensorflow:Importing a function (__inference_efficientnetb0_layer_call_and_return_conditional_losses_426703) with ops with custom gradients. Will likely fail if a gradient is requested.\n",
      "WARNING:tensorflow:Importing a function (__inference_efficientnetb0_layer_call_and_return_conditional_losses_426703) with ops with custom gradients. Will likely fail if a gradient is requested.\n",
      "WARNING:tensorflow:Importing a function (__inference_efficientnetb0_layer_call_and_return_conditional_losses_426703) with ops with custom gradients. Will likely fail if a gradient is requested.\n",
      "WARNING:tensorflow:Importing a function (__inference_efficientnetb0_layer_call_and_return_conditional_losses_426703) with ops with custom gradients. Will likely fail if a gradient is requested.\n",
      "WARNING:tensorflow:Importing a function (__inference_efficientnetb0_layer_call_and_return_conditional_losses_426703) with ops with custom gradients. Will likely fail if a gradient is requested.\n",
      "WARNING:tensorflow:Importing a function (__inference_efficientnetb0_layer_call_and_return_conditional_losses_426703) with ops with custom gradients. Will likely fail if a gradient is requested.\n",
      "WARNING:tensorflow:Importing a function (__inference_efficientnetb0_layer_call_and_return_conditional_losses_426703) with ops with custom gradients. Will likely fail if a gradient is requested.\n",
      "WARNING:tensorflow:Importing a function (__inference_efficientnetb0_layer_call_and_return_conditional_losses_426703) with ops with custom gradients. Will likely fail if a gradient is requested.\n",
      "WARNING:tensorflow:Importing a function (__inference_efficientnetb0_layer_call_and_return_conditional_losses_426703) with ops with custom gradients. Will likely fail if a gradient is requested.\n",
      "WARNING:tensorflow:Importing a function (__inference_efficientnetb0_layer_call_and_return_conditional_losses_426703) with ops with custom gradients. Will likely fail if a gradient is requested.\n",
      "WARNING:tensorflow:Importing a function (__inference_efficientnetb0_layer_call_and_return_conditional_losses_426703) with ops with custom gradients. Will likely fail if a gradient is requested.\n",
      "WARNING:tensorflow:Importing a function (__inference_efficientnetb0_layer_call_and_return_conditional_losses_426703) with ops with custom gradients. Will likely fail if a gradient is requested.\n",
      "WARNING:tensorflow:Importing a function (__inference_efficientnetb0_layer_call_and_return_conditional_losses_426703) with ops with custom gradients. Will likely fail if a gradient is requested.\n",
      "WARNING:tensorflow:Importing a function (__inference_efficientnetb0_layer_call_and_return_conditional_losses_426703) with ops with custom gradients. Will likely fail if a gradient is requested.\n",
      "WARNING:tensorflow:Importing a function (__inference_efficientnetb0_layer_call_and_return_conditional_losses_426703) with ops with custom gradients. Will likely fail if a gradient is requested.\n",
      "WARNING:tensorflow:Importing a function (__inference_efficientnetb0_layer_call_and_return_conditional_losses_426703) with ops with custom gradients. Will likely fail if a gradient is requested.\n",
      "WARNING:tensorflow:Importing a function (__inference_efficientnetb0_layer_call_and_return_conditional_losses_426703) with ops with custom gradients. Will likely fail if a gradient is requested.\n",
      "WARNING:tensorflow:Importing a function (__inference_efficientnetb0_layer_call_and_return_conditional_losses_426703) with ops with custom gradients. Will likely fail if a gradient is requested.\n",
      "WARNING:tensorflow:Importing a function (__inference_efficientnetb0_layer_call_and_return_conditional_losses_426703) with ops with custom gradients. Will likely fail if a gradient is requested.\n",
      "WARNING:tensorflow:Importing a function (__inference_efficientnetb0_layer_call_and_return_conditional_losses_426703) with ops with custom gradients. Will likely fail if a gradient is requested.\n",
      "WARNING:tensorflow:Importing a function (__inference_efficientnetb0_layer_call_and_return_conditional_losses_426703) with ops with custom gradients. Will likely fail if a gradient is requested.\n",
      "WARNING:tensorflow:Importing a function (__inference_efficientnetb0_layer_call_and_return_conditional_losses_426703) with ops with custom gradients. Will likely fail if a gradient is requested.\n",
      "WARNING:tensorflow:Importing a function (__inference_efficientnetb0_layer_call_and_return_conditional_losses_426703) with ops with custom gradients. Will likely fail if a gradient is requested.\n",
      "WARNING:tensorflow:Importing a function (__inference_efficientnetb0_layer_call_and_return_conditional_losses_426703) with ops with custom gradients. Will likely fail if a gradient is requested.\n",
      "WARNING:tensorflow:Importing a function (__inference_efficientnetb0_layer_call_and_return_conditional_losses_426703) with ops with custom gradients. Will likely fail if a gradient is requested.\n",
      "WARNING:tensorflow:Importing a function (__inference_efficientnetb0_layer_call_and_return_conditional_losses_426703) with ops with custom gradients. Will likely fail if a gradient is requested.\n",
      "WARNING:tensorflow:Importing a function (__inference_efficientnetb0_layer_call_and_return_conditional_losses_426703) with ops with custom gradients. Will likely fail if a gradient is requested.\n",
      "WARNING:tensorflow:Importing a function (__inference_efficientnetb0_layer_call_and_return_conditional_losses_426703) with ops with custom gradients. Will likely fail if a gradient is requested.\n",
      "WARNING:tensorflow:Importing a function (__inference_efficientnetb0_layer_call_and_return_conditional_losses_426703) with ops with custom gradients. Will likely fail if a gradient is requested.\n",
      "WARNING:tensorflow:Importing a function (__inference_efficientnetb0_layer_call_and_return_conditional_losses_426703) with ops with custom gradients. Will likely fail if a gradient is requested.\n",
      "WARNING:tensorflow:Importing a function (__inference_efficientnetb0_layer_call_and_return_conditional_losses_426703) with ops with custom gradients. Will likely fail if a gradient is requested.\n",
      "WARNING:tensorflow:Importing a function (__inference_efficientnetb0_layer_call_and_return_conditional_losses_426703) with ops with custom gradients. Will likely fail if a gradient is requested.\n",
      "WARNING:tensorflow:Importing a function (__inference_efficientnetb0_layer_call_and_return_conditional_losses_426703) with ops with custom gradients. Will likely fail if a gradient is requested.\n",
      "WARNING:tensorflow:Importing a function (__inference_efficientnetb0_layer_call_and_return_conditional_losses_426703) with ops with custom gradients. Will likely fail if a gradient is requested.\n",
      "WARNING:tensorflow:Importing a function (__inference_efficientnetb0_layer_call_and_return_conditional_losses_426703) with ops with custom gradients. Will likely fail if a gradient is requested.\n",
      "WARNING:tensorflow:Importing a function (__inference_efficientnetb0_layer_call_and_return_conditional_losses_426703) with ops with custom gradients. Will likely fail if a gradient is requested.\n",
      "WARNING:tensorflow:Importing a function (__inference_efficientnetb0_layer_call_and_return_conditional_losses_426703) with ops with custom gradients. Will likely fail if a gradient is requested.\n",
      "WARNING:tensorflow:Importing a function (__inference_efficientnetb0_layer_call_and_return_conditional_losses_426703) with ops with custom gradients. Will likely fail if a gradient is requested.\n",
      "WARNING:tensorflow:Importing a function (__inference_efficientnetb0_layer_call_and_return_conditional_losses_426703) with ops with custom gradients. Will likely fail if a gradient is requested.\n",
      "WARNING:tensorflow:Importing a function (__inference_efficientnetb0_layer_call_and_return_conditional_losses_426703) with ops with custom gradients. Will likely fail if a gradient is requested.\n",
      "WARNING:tensorflow:Importing a function (__inference_block4c_activation_layer_call_and_return_conditional_losses_432052) with ops with custom gradients. Will likely fail if a gradient is requested.\n",
      "WARNING:tensorflow:Importing a function (__inference_block5b_expand_activation_layer_call_and_return_conditional_losses_405858) with ops with custom gradients. Will likely fail if a gradient is requested.\n",
      "WARNING:tensorflow:Importing a function (__inference_block7a_se_reduce_layer_call_and_return_conditional_losses_436518) with ops with custom gradients. Will likely fail if a gradient is requested.\n",
      "WARNING:tensorflow:Importing a function (__inference_block4a_activation_layer_call_and_return_conditional_losses_404274) with ops with custom gradients. Will likely fail if a gradient is requested.\n",
      "WARNING:tensorflow:Importing a function (__inference_block4c_se_reduce_layer_call_and_return_conditional_losses_405160) with ops with custom gradients. Will likely fail if a gradient is requested.\n",
      "WARNING:tensorflow:Importing a function (__inference_stem_activation_layer_call_and_return_conditional_losses_428142) with ops with custom gradients. Will likely fail if a gradient is requested.\n",
      "WARNING:tensorflow:Importing a function (__inference_block5b_se_reduce_layer_call_and_return_conditional_losses_433175) with ops with custom gradients. Will likely fail if a gradient is requested.\n",
      "WARNING:tensorflow:Importing a function (__inference_block4b_se_reduce_layer_call_and_return_conditional_losses_431527) with ops with custom gradients. Will likely fail if a gradient is requested.\n",
      "WARNING:tensorflow:Importing a function (__inference_efficientnetb0_layer_call_and_return_conditional_losses_425081) with ops with custom gradients. Will likely fail if a gradient is requested.\n",
      "WARNING:tensorflow:Importing a function (__inference_efficientnetb0_layer_call_and_return_conditional_losses_425081) with ops with custom gradients. Will likely fail if a gradient is requested.\n",
      "WARNING:tensorflow:Importing a function (__inference_efficientnetb0_layer_call_and_return_conditional_losses_425081) with ops with custom gradients. Will likely fail if a gradient is requested.\n",
      "WARNING:tensorflow:Importing a function (__inference_efficientnetb0_layer_call_and_return_conditional_losses_425081) with ops with custom gradients. Will likely fail if a gradient is requested.\n",
      "WARNING:tensorflow:Importing a function (__inference_efficientnetb0_layer_call_and_return_conditional_losses_425081) with ops with custom gradients. Will likely fail if a gradient is requested.\n",
      "WARNING:tensorflow:Importing a function (__inference_efficientnetb0_layer_call_and_return_conditional_losses_425081) with ops with custom gradients. Will likely fail if a gradient is requested.\n",
      "WARNING:tensorflow:Importing a function (__inference_efficientnetb0_layer_call_and_return_conditional_losses_425081) with ops with custom gradients. Will likely fail if a gradient is requested.\n",
      "WARNING:tensorflow:Importing a function (__inference_efficientnetb0_layer_call_and_return_conditional_losses_425081) with ops with custom gradients. Will likely fail if a gradient is requested.\n",
      "WARNING:tensorflow:Importing a function (__inference_efficientnetb0_layer_call_and_return_conditional_losses_425081) with ops with custom gradients. Will likely fail if a gradient is requested.\n",
      "WARNING:tensorflow:Importing a function (__inference_efficientnetb0_layer_call_and_return_conditional_losses_425081) with ops with custom gradients. Will likely fail if a gradient is requested.\n",
      "WARNING:tensorflow:Importing a function (__inference_efficientnetb0_layer_call_and_return_conditional_losses_425081) with ops with custom gradients. Will likely fail if a gradient is requested.\n",
      "WARNING:tensorflow:Importing a function (__inference_efficientnetb0_layer_call_and_return_conditional_losses_425081) with ops with custom gradients. Will likely fail if a gradient is requested.\n",
      "WARNING:tensorflow:Importing a function (__inference_efficientnetb0_layer_call_and_return_conditional_losses_425081) with ops with custom gradients. Will likely fail if a gradient is requested.\n",
      "WARNING:tensorflow:Importing a function (__inference_efficientnetb0_layer_call_and_return_conditional_losses_425081) with ops with custom gradients. Will likely fail if a gradient is requested.\n",
      "WARNING:tensorflow:Importing a function (__inference_efficientnetb0_layer_call_and_return_conditional_losses_425081) with ops with custom gradients. Will likely fail if a gradient is requested.\n",
      "WARNING:tensorflow:Importing a function (__inference_efficientnetb0_layer_call_and_return_conditional_losses_425081) with ops with custom gradients. Will likely fail if a gradient is requested.\n",
      "WARNING:tensorflow:Importing a function (__inference_efficientnetb0_layer_call_and_return_conditional_losses_425081) with ops with custom gradients. Will likely fail if a gradient is requested.\n",
      "WARNING:tensorflow:Importing a function (__inference_efficientnetb0_layer_call_and_return_conditional_losses_425081) with ops with custom gradients. Will likely fail if a gradient is requested.\n",
      "WARNING:tensorflow:Importing a function (__inference_efficientnetb0_layer_call_and_return_conditional_losses_425081) with ops with custom gradients. Will likely fail if a gradient is requested.\n",
      "WARNING:tensorflow:Importing a function (__inference_efficientnetb0_layer_call_and_return_conditional_losses_425081) with ops with custom gradients. Will likely fail if a gradient is requested.\n",
      "WARNING:tensorflow:Importing a function (__inference_efficientnetb0_layer_call_and_return_conditional_losses_425081) with ops with custom gradients. Will likely fail if a gradient is requested.\n",
      "WARNING:tensorflow:Importing a function (__inference_efficientnetb0_layer_call_and_return_conditional_losses_425081) with ops with custom gradients. Will likely fail if a gradient is requested.\n",
      "WARNING:tensorflow:Importing a function (__inference_efficientnetb0_layer_call_and_return_conditional_losses_425081) with ops with custom gradients. Will likely fail if a gradient is requested.\n",
      "WARNING:tensorflow:Importing a function (__inference_efficientnetb0_layer_call_and_return_conditional_losses_425081) with ops with custom gradients. Will likely fail if a gradient is requested.\n",
      "WARNING:tensorflow:Importing a function (__inference_efficientnetb0_layer_call_and_return_conditional_losses_425081) with ops with custom gradients. Will likely fail if a gradient is requested.\n",
      "WARNING:tensorflow:Importing a function (__inference_efficientnetb0_layer_call_and_return_conditional_losses_425081) with ops with custom gradients. Will likely fail if a gradient is requested.\n",
      "WARNING:tensorflow:Importing a function (__inference_efficientnetb0_layer_call_and_return_conditional_losses_425081) with ops with custom gradients. Will likely fail if a gradient is requested.\n",
      "WARNING:tensorflow:Importing a function (__inference_efficientnetb0_layer_call_and_return_conditional_losses_425081) with ops with custom gradients. Will likely fail if a gradient is requested.\n",
      "WARNING:tensorflow:Importing a function (__inference_efficientnetb0_layer_call_and_return_conditional_losses_425081) with ops with custom gradients. Will likely fail if a gradient is requested.\n",
      "WARNING:tensorflow:Importing a function (__inference_efficientnetb0_layer_call_and_return_conditional_losses_425081) with ops with custom gradients. Will likely fail if a gradient is requested.\n",
      "WARNING:tensorflow:Importing a function (__inference_efficientnetb0_layer_call_and_return_conditional_losses_425081) with ops with custom gradients. Will likely fail if a gradient is requested.\n",
      "WARNING:tensorflow:Importing a function (__inference_efficientnetb0_layer_call_and_return_conditional_losses_425081) with ops with custom gradients. Will likely fail if a gradient is requested.\n",
      "WARNING:tensorflow:Importing a function (__inference_efficientnetb0_layer_call_and_return_conditional_losses_425081) with ops with custom gradients. Will likely fail if a gradient is requested.\n",
      "WARNING:tensorflow:Importing a function (__inference_efficientnetb0_layer_call_and_return_conditional_losses_425081) with ops with custom gradients. Will likely fail if a gradient is requested.\n",
      "WARNING:tensorflow:Importing a function (__inference_efficientnetb0_layer_call_and_return_conditional_losses_425081) with ops with custom gradients. Will likely fail if a gradient is requested.\n",
      "WARNING:tensorflow:Importing a function (__inference_efficientnetb0_layer_call_and_return_conditional_losses_425081) with ops with custom gradients. Will likely fail if a gradient is requested.\n",
      "WARNING:tensorflow:Importing a function (__inference_efficientnetb0_layer_call_and_return_conditional_losses_425081) with ops with custom gradients. Will likely fail if a gradient is requested.\n",
      "WARNING:tensorflow:Importing a function (__inference_efficientnetb0_layer_call_and_return_conditional_losses_425081) with ops with custom gradients. Will likely fail if a gradient is requested.\n",
      "WARNING:tensorflow:Importing a function (__inference_efficientnetb0_layer_call_and_return_conditional_losses_425081) with ops with custom gradients. Will likely fail if a gradient is requested.\n",
      "WARNING:tensorflow:Importing a function (__inference_efficientnetb0_layer_call_and_return_conditional_losses_425081) with ops with custom gradients. Will likely fail if a gradient is requested.\n",
      "WARNING:tensorflow:Importing a function (__inference_efficientnetb0_layer_call_and_return_conditional_losses_425081) with ops with custom gradients. Will likely fail if a gradient is requested.\n",
      "WARNING:tensorflow:Importing a function (__inference_efficientnetb0_layer_call_and_return_conditional_losses_425081) with ops with custom gradients. Will likely fail if a gradient is requested.\n",
      "WARNING:tensorflow:Importing a function (__inference_efficientnetb0_layer_call_and_return_conditional_losses_425081) with ops with custom gradients. Will likely fail if a gradient is requested.\n",
      "WARNING:tensorflow:Importing a function (__inference_efficientnetb0_layer_call_and_return_conditional_losses_425081) with ops with custom gradients. Will likely fail if a gradient is requested.\n",
      "WARNING:tensorflow:Importing a function (__inference_efficientnetb0_layer_call_and_return_conditional_losses_425081) with ops with custom gradients. Will likely fail if a gradient is requested.\n",
      "WARNING:tensorflow:Importing a function (__inference_efficientnetb0_layer_call_and_return_conditional_losses_425081) with ops with custom gradients. Will likely fail if a gradient is requested.\n",
      "WARNING:tensorflow:Importing a function (__inference_efficientnetb0_layer_call_and_return_conditional_losses_425081) with ops with custom gradients. Will likely fail if a gradient is requested.\n",
      "WARNING:tensorflow:Importing a function (__inference_efficientnetb0_layer_call_and_return_conditional_losses_425081) with ops with custom gradients. Will likely fail if a gradient is requested.\n",
      "WARNING:tensorflow:Importing a function (__inference_efficientnetb0_layer_call_and_return_conditional_losses_425081) with ops with custom gradients. Will likely fail if a gradient is requested.\n",
      "Accuracy: 100.0%\n"
     ]
    }
   ],
   "source": [
    "score_model(\"EfficientNetB0_S4\") #99.92% (multiple warnings)"
   ]
  },
  {
   "cell_type": "code",
   "execution_count": 45,
   "id": "05112bc2-47db-4cf6-8c50-4c2e4dd3eee4",
   "metadata": {
    "tags": []
   },
   "outputs": [
    {
     "name": "stdout",
     "output_type": "stream",
     "text": [
      "labeled Demospongiae as Negative\n",
      "labeled Demospongiae as Negative\n",
      "labeled Demospongiae as Negative\n",
      "labeled Demospongiae as Negative\n",
      "labeled Demospongiae as Negative\n",
      "labeled Hexactinellida as Negative\n",
      "labeled Hexactinellida as Negative\n",
      "labeled Hexactinellida as Negative\n",
      "labeled Demospongiae as Negative\n",
      "labeled Hexactinellida as Negative\n",
      "labeled Demospongiae as Negative\n",
      "labeled Hexactinellida as Negative\n",
      "labeled Demospongiae as Negative\n",
      "labeled Demospongiae as Negative\n",
      "labeled Hexactinellida as Negative\n",
      "labeled Demospongiae as Negative\n",
      "labeled Hexactinellida as Negative\n",
      "labeled Demospongiae as Negative\n",
      "labeled Demospongiae as Negative\n",
      "labeled Hexactinellida as Negative\n",
      "labeled Demospongiae as Negative\n",
      "labeled Demospongiae as Negative\n",
      "labeled Demospongiae as Negative\n",
      "labeled Hexactinellida as Negative\n",
      "labeled Demospongiae as Negative\n",
      "labeled Demospongiae as Negative\n",
      "labeled Demospongiae as Negative\n",
      "labeled Demospongiae as Negative\n",
      "labeled Demospongiae as Negative\n",
      "labeled Demospongiae as Negative\n",
      "labeled Hexactinellida as Negative\n",
      "labeled Demospongiae as Negative\n",
      "labeled Demospongiae as Negative\n",
      "labeled Demospongiae as Negative\n",
      "labeled Demospongiae as Negative\n",
      "labeled Demospongiae as Negative\n",
      "labeled Demospongiae as Negative\n",
      "labeled Hexactinellida as Negative\n",
      "Accuracy: 96.15%\n"
     ]
    }
   ],
   "source": [
    "score_model(\"ResNet50_S4\") #95.87%"
   ]
  },
  {
   "cell_type": "code",
   "execution_count": 47,
   "id": "7a749f1c-c90e-4886-a6d2-15533531198c",
   "metadata": {
    "tags": []
   },
   "outputs": [
    {
     "data": {
      "text/plain": [
       "{'resnet18_S4': 99.89858012170384,\n",
       " 'mobilenet_S6': 100.0,\n",
       " 'seresnet18_S6': 100.0,\n",
       " 'inceptionv3': 100.0,\n",
       " 'xception': 100.0,\n",
       " 'densenet121_S4': 100.0,\n",
       " 'VGG16_S4': 94.01622718052738,\n",
       " 'NASNetMobile_S4': 1.0141987829614605,\n",
       " 'EfficientNetB0_S4': 100.0,\n",
       " 'ResNet50_S4': 96.14604462474645}"
      ]
     },
     "execution_count": 47,
     "metadata": {},
     "output_type": "execute_result"
    }
   ],
   "source": [
    "score"
   ]
  },
  {
   "cell_type": "code",
   "execution_count": null,
   "id": "e25da1ed-ff8d-423d-9064-c9a2c5c89679",
   "metadata": {},
   "outputs": [],
   "source": []
  }
 ],
 "metadata": {
  "kernelspec": {
   "display_name": "Python 3 (ipykernel)",
   "language": "python",
   "name": "python3"
  },
  "language_info": {
   "codemirror_mode": {
    "name": "ipython",
    "version": 3
   },
   "file_extension": ".py",
   "mimetype": "text/x-python",
   "name": "python",
   "nbconvert_exporter": "python",
   "pygments_lexer": "ipython3",
   "version": "3.8.12"
  }
 },
 "nbformat": 4,
 "nbformat_minor": 5
}
